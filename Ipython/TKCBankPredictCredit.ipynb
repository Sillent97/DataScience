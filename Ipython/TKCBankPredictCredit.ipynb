{
 "metadata": {
  "name": ""
 },
 "nbformat": 3,
 "nbformat_minor": 0,
 "worksheets": [
  {
   "cells": [
    {
     "cell_type": "heading",
     "level": 1,
     "metadata": {},
     "source": [
      "\u0420\u0435\u0448\u0435\u043d\u0438\u0435 \u0437\u0430\u0434\u0430\u0447\u0438 \u043a\u0440\u0435\u0434\u0438\u0442\u043d\u043e\u0433\u043e \u0441\u043a\u043e\u0440\u0438\u043d\u0433\u0430 \u043d\u0430 \u043f\u0440\u0438\u043c\u0435\u0440\u0435 \u043a\u043b\u0438\u0435\u043d\u0442\u043e\u0432 \u0422\u041a\u0421"
     ]
    },
    {
     "cell_type": "heading",
     "level": 4,
     "metadata": {},
     "source": [
      "\u0412\u0432\u0435\u0434\u0435\u043d\u0438\u0435"
     ]
    },
    {
     "cell_type": "markdown",
     "metadata": {},
     "source": [
      "\u0414\u043e\u0431\u0440\u044b\u0439 \u0434\u0435\u043d\u044c, \u0443\u0432\u0430\u0436\u0430\u0435\u043c\u044b\u0435 \u0447\u0438\u0442\u0430\u0442\u0435\u043b\u0438."
     ]
    },
    {
     "cell_type": "markdown",
     "metadata": {},
     "source": [
      "\u041d\u0435\u0434\u0430\u0432\u043d\u043e, \u0431\u0440\u043e\u0434\u044f \u043f\u043e \u043f\u0440\u043e\u0441\u0442\u043e\u0440\u0430\u043c \u0433\u043b\u043e\u0431\u0430\u043b\u044c\u043d\u043e\u0439 \u043f\u0430\u0443\u0442\u0438\u043d\u044b, \u044f \u043d\u0430\u0442\u043a\u043d\u0443\u043b\u0441\u044f \u043d\u0430 <a href = \"https://www.tcsbank.ru/tournament/\">\u0442\u0443\u0440\u043d\u0438\u0440</a>, \u043a\u043e\u0442\u043e\u0440\u044b\u0439 \u043f\u0440\u043e\u0432\u043e\u0434\u0438\u043b\u0441\u044f \u0431\u0430\u043d\u043a\u043e\u043c \u0422\u041a\u0421 \u0432 \u043d\u0430\u0447\u0430\u043b\u0435 \u044d\u0442\u043e\u0433\u043e \u0433\u043e\u0434\u0430. \u041e\u0437\u043d\u0430\u043a\u043e\u043c\u0438\u0432\u0448\u0438\u0441\u044c \u0441 \u0437\u0430\u0434\u0430\u043d\u0438\u044f\u043c\u0438, \u044f \u0440\u0435\u0448\u0438\u043b \u043f\u0440\u043e\u0432\u0435\u0440\u0438\u0442\u044c \u0441\u0432\u043e\u0438 \u043d\u0430\u0432\u044b\u043a\u0438 \u0432 \u0430\u043d\u0430\u043b\u0438\u0437\u0435 \u0434\u0430\u043d\u043d\u044b\u0445 \u043d\u0430 \u043d\u0438\u0445."
     ]
    },
    {
     "cell_type": "markdown",
     "metadata": {},
     "source": [
      "\u041d\u0430\u0447\u0430\u0442\u044c \u043f\u0440\u043e\u0432\u0435\u0440\u043a\u0443 \u044f \u0440\u0435\u0448\u0438\u043b \u0441 \u0437\u0430\u0434\u0430\u0447\u0438 \u043e \u0441\u043a\u043e\u0440\u0438\u043d\u0433\u0435 (\u0417\u0430\u0434\u0430\u043d\u0438\u0435 \u21163). \u0414\u043b\u044f \u0435\u0435 \u0440\u0435\u0448\u0435\u043d\u0438\u044f \u044f, \u043a\u0430\u043a \u0432\u0441\u0435\u0433\u0434\u0430, \u0438\u0441\u043f\u043e\u043b\u044c\u0437\u043e\u0432\u0430\u043b Python \u0441 \u0430\u043d\u0430\u043b\u0438\u0442\u0438\u0447\u0435\u0441\u043a\u0438\u043c\u0438 \u043c\u043e\u0434\u0443\u043b\u044f\u043c\u0438 <a href=\"http://pandas.pydata.org/pandas-docs/stable/\">pandas</a> \u0438 <a href=\"http://scikit-learn.org/stable/index.html\">scikit-learn</a>."
     ]
    },
    {
     "cell_type": "heading",
     "level": 4,
     "metadata": {},
     "source": [
      "\u041e\u043f\u0438\u0441\u0430\u043d\u0438\u0435 \u0434\u0430\u043d\u043d\u044b\u0445 \u0438 \u043f\u043e\u0441\u0442\u0430\u043d\u043e\u0432\u043a\u0430 \u0437\u0430\u0434\u0430\u0447\u0438"
     ]
    },
    {
     "cell_type": "markdown",
     "metadata": {},
     "source": [
      "\u0411\u0430\u043d\u043a \u0437\u0430\u043f\u0440\u0430\u0448\u0438\u0432\u0430\u0435\u0442 \u043a\u0440\u0435\u0434\u0438\u0442\u043d\u0443\u044e \u0438\u0441\u0442\u043e\u0440\u0438\u044e \u0437\u0430\u044f\u0432\u0438\u0442\u0435\u043b\u044f \u0432 \u0442\u0440\u0435\u0445 \u043a\u0440\u0443\u043f\u043d\u0435\u0439\u0448\u0438\u0445 \u0440\u043e\u0441\u0441\u0438\u0439\u0441\u043a\u0438\u0445 \u043a\u0440\u0435\u0434\u0438\u0442\u043d\u044b\u0445 \u0431\u044e\u0440\u043e.\n",
      "\u041f\u0440\u0435\u0434\u043e\u0441\u0442\u0430\u0432\u043b\u044f\u0435\u0442\u0441\u044f \u0432\u044b\u0431\u043e\u0440\u043a\u0430 \u043a\u043b\u0438\u0435\u043d\u0442\u043e\u0432 \u0411\u0430\u043d\u043a\u0430 \u0432 \u0444\u0430\u0439\u043b\u0435 <a href=\"https://static.tcsbank.ru/documents/olymp/SAMPLE_CUSTOMERS.csv\">SAMPLE_CUSTOMERS.CSV</a>. \u0412\u044b\u0431\u043e\u0440\u043a\u0430 \u0440\u0430\u0437\u0434\u0435\u043b\u0435\u043d\u0430 \u043d\u0430 \u0447\u0430\u0441\u0442\u0438 \u00abtrain\u00bb \u0438 \u00abtest\u00bb. \u041f\u043e \u0432\u044b\u0431\u043e\u0440\u043a\u0435 \u00abtrain\u00bb \u0438\u0437\u0432\u0435\u0441\u0442\u043d\u043e \u0437\u043d\u0430\u0447\u0435\u043d\u0438\u0435 \u0446\u0435\u043b\u0435\u0432\u043e\u0439 \u043f\u0435\u0440\u0435\u043c\u0435\u043d\u043d\u043e\u0439 bad - \u043d\u0430\u043b\u0438\u0447\u0438\u0435 \"\u0434\u0435\u0444\u043e\u043b\u0442\u0430\" (\u0434\u043e\u043f\u0443\u0449\u0435\u043d\u0438\u0435 \u043a\u043b\u0438\u0435\u043d\u0442\u043e\u043c \u043f\u0440\u043e\u0441\u0440\u043e\u0447\u043a\u0438 90 \u0438 \u0431\u043e\u043b\u0435\u0435 \u0434\u043d\u0435\u0439 \u0432 \u0442\u0435\u0447\u0435\u043d\u0438\u0435 \u043f\u0435\u0440\u0432\u043e\u0433\u043e \u0433\u043e\u0434\u0430 \u043f\u043e\u043b\u044c\u0437\u043e\u0432\u0430\u043d\u0438\u044f \u043a\u0440\u0435\u0434\u0438\u0442\u043e\u043c).\n",
      "\u0412 \u0444\u0430\u0439\u043b\u0435 <a href=\"https://static.tcsbank.ru/documents/olymp/SAMPLE_ACCOUNTS.csv\">SAMPLE_ACCOUNTS.CSV</a> \u043f\u0440\u0435\u0434\u043e\u0441\u0442\u0430\u0432\u043b\u0435\u043d\u044b \u0434\u0430\u043d\u043d\u044b\u0435 \u0438\u0437 \u043e\u0442\u0432\u0435\u0442\u043e\u0432 \u043a\u0440\u0435\u0434\u0438\u0442\u043d\u044b\u0445 \u0431\u044e\u0440\u043e \u043d\u0430 \u0432\u0441\u0435 \u0437\u0430\u043f\u0440\u043e\u0441\u044b \u043f\u043e \u0441\u043e\u043e\u0442\u0432\u0435\u0442\u0441\u0442\u0432\u0443\u044e\u0449\u0438\u043c \u043a\u043b\u0438\u0435\u043d\u0442\u0430\u043c. "
     ]
    },
    {
     "cell_type": "markdown",
     "metadata": {},
     "source": [
      "\u0424\u043e\u0440\u043c\u0430\u0442 \u0434\u0430\u043d\u043d\u044b\u0445 <b>SAMPLE_CUSTOMERS</b> \u2013 \u0438\u043d\u0444\u043e\u0440\u043c\u0430\u0446\u0438\u044f \u043e \u0441\u0447\u0435\u0442\u0430\u0445 \u0447\u0435\u043b\u043e\u0432\u0435\u043a\u0430, \u043f\u0435\u0440\u0435\u0434\u0430\u0432\u0430\u0435\u043c\u0430\u044f \u0434\u0440\u0443\u0433\u0438\u043c\u0438 \u0431\u0430\u043d\u043a\u0430\u043c\u0438 \u0432 \u0434\u0430\u043d\u043d\u043e\u0435 \u0431\u044e\u0440\u043e."
     ]
    },
    {
     "cell_type": "markdown",
     "metadata": {},
     "source": [
      "\u041e\u043f\u0438\u0441\u0430\u043d\u0438\u0435 \u0444\u043e\u0440\u043c\u0430\u0442\u0430 \u043d\u0430\u0431\u043e\u0440\u0430 \u0434\u0430\u043d\u043d\u044b\u0445 <b>SAMPLE_ACCOUNTS</b>:"
     ]
    },
    {
     "cell_type": "markdown",
     "metadata": {},
     "source": [
      "<table>\n",
      " <tr>\n",
      "  <th>Name</th>\n",
      "  <th>Description</th>\n",
      "  <th>Type</th>\n",
      " </tr>\n",
      " <tr>\n",
      "  <td><i>TCS_CUSTOMER_ID</i></td>\n",
      "  <td>\u0418\u0434\u0435\u043d\u0442\u0438\u0444\u0438\u043a\u0430\u0442\u043e\u0440 \u043a\u043b\u0438\u0435\u043d\u0442\u0430</td>\n",
      "  <td >ID</td>\n",
      " </tr>\n",
      " <tr>\n",
      "  <td><i>BUREAU_CD</i></td>\n",
      "  <td>\u041a\u043e\u0434 \u0431\u044e\u0440\u043e, \u0438\u0437 \u043a\u043e\u0442\u043e\u0440\u043e\u0433\u043e \u043f\u043e\u043b\u0443\u0447\u0435\u043d \u0441\u0447\u0435\u0442</td>\n",
      "  <td >numeric</td>\n",
      " </tr>\n",
      " <tr>\n",
      "  <td><i>BKI_REQUEST_DATE</i></td>\n",
      "  <td>\u0414\u0430\u0442\u0430, \u0432 \u043a\u043e\u0442\u043e\u0440\u0443\u044e \u0431\u044b\u043b \u0441\u0434\u0435\u043b\u0430\u043d \u0437\u0430\u043f\u0440\u043e\u0441 \u0432 \u0431\u044e\u0440\u043e</td>\n",
      "  <td>date</td>\n",
      " </tr>\n",
      " <tr>\n",
      "  <td><i>CURRENCY</i></td>\n",
      "  <td>\u0412\u0430\u043b\u044e\u0442\u0430 \u0434\u043e\u0433\u043e\u0432\u043e\u0440\u0430 (ISO \u0431\u0443\u043a\u0432\u0435\u043d\u043d\u044b\u0439 \u043a\u043e\u0434 \u0432\u0430\u043b\u044e\u0442\u044b)</td>\n",
      "  <td>string</td>\n",
      " </tr>\n",
      " <tr>\n",
      "  <td><i>RELATIONSHIP</i></td>\n",
      "  <td>\u0422\u0438\u043f \u043e\u0442\u043d\u043e\u0448\u0435\u043d\u0438\u044f \u043a \u0434\u043e\u0433\u043e\u0432\u043e\u0440\u0443</td>\n",
      "  <td>string</td>\n",
      " </tr>\n",
      " <tr>\n",
      "  <td rowspan=\"5\">&nbsp;</td>\n",
      "  <td>1 - \u0424\u0438\u0437\u0438\u0447\u0435\u0441\u043a\u043e\u0435 \u043b\u0438\u0446\u043e</td>\n",
      "  <td rowspan=\"5\">&nbsp;</td>\n",
      " </tr>\n",
      " <tr>\n",
      "  <td>2 - \u0414\u043e\u043f\u043e\u043b\u043d\u0438\u0442\u0435\u043b\u044c\u043d\u0430\u044f \u043a\u0430\u0440\u0442\u0430/\u0410\u0432\u0442\u043e\u0440\u0438\u0437\u043e\u0432\u0430\u043d\u043d\u044b\u0439 \u043f\u043e\u043b\u044c\u0437\u043e\u0432\u0430\u0442\u0435\u043b\u044c</td>\n",
      " </tr>\n",
      " <tr>\n",
      "  <td>4 - \u0421\u043e\u0432\u043c\u0435\u0441\u0442\u043d\u044b\u0439</td>\n",
      " </tr>\n",
      " <tr>\n",
      "  <td>5 - \u041f\u043e\u0440\u0443\u0447\u0438\u0442\u0435\u043b\u044c</td>\n",
      " </tr>\n",
      " <tr>\n",
      "  <td>9 - \u042e\u0440\u0438\u0434\u0438\u0447\u0435\u0441\u043a\u043e\u0435 \u043b\u0438\u0446\u043e</td>\n",
      " </tr>\n",
      " <tr>\n",
      "  <td><i>OPEN_DATE</i></td>\n",
      "  <td>\u0414\u0430\u0442\u0430 \u043e\u0442\u043a\u0440\u044b\u0442\u0438\u044f \u0434\u043e\u0433\u043e\u0432\u043e\u0440\u0430</td>\n",
      "  <td >date</td>\n",
      " </tr>\n",
      " <tr>\n",
      "  <td><i>FINAL_PMT_DATE</i></td>\n",
      "  <td>\u0414\u0430\u0442\u0430 \u0444\u0438\u043d\u0430\u043b\u044c\u043d\u043e\u0433\u043e \u043f\u043b\u0430\u0442\u0435\u0436\u0430 (\u043f\u043b\u0430\u043d\u043e\u0432\u0430\u044f)</td>\n",
      "  <td >date</td>\n",
      " </tr>\n",
      " <tr>\n",
      "  <td><i>TYPE</i></td>\n",
      "  <td>\u041a\u043e\u0434 \u0442\u0438\u043f\u0430 \u0434\u043e\u0433\u043e\u0432\u043e\u0440\u0430</td>\n",
      "  <td >string</td>\n",
      " </tr>\n",
      " <tr>\n",
      "  <td rowspan=\"11\">&nbsp;</td>\n",
      "  <td>1 \u2013 \u041a\u0440\u0435\u0434\u0438\u0442 \u043d\u0430 \u0430\u0432\u0442\u043e\u043c\u043e\u0431\u0438\u043b\u044c</td>\n",
      "  <td rowspan=\"11\">&nbsp;</td>\n",
      " </tr>\n",
      " <tr>\n",
      "  <td>4 \u2013 \u041b\u0438\u0437\u0438\u043d\u0433</td>\n",
      " </tr>\n",
      " <tr>\n",
      "  <td>6 \u2013 \u0418\u043f\u043e\u0442\u0435\u043a\u0430</td>\n",
      " </tr>\n",
      " <tr>\n",
      "  <td>7 \u2013 \u041a\u0440\u0435\u0434\u0438\u0442\u043d\u0430\u044f \u043a\u0430\u0440\u0442\u0430</td>\n",
      " </tr>\n",
      " <tr>\n",
      "  <td>9 \u2013 \u041f\u043e\u0442\u0440\u0435\u0431\u0438\u0442\u0435\u043b\u044c\u0441\u043a\u0438\u0439 \u043a\u0440\u0435\u0434\u0438\u0442</td>\n",
      " </tr>\n",
      " <tr>\n",
      "  <td>10 \u2013 \u041a\u0440\u0435\u0434\u0438\u0442 \u043d\u0430 \u0440\u0430\u0437\u0432\u0438\u0442\u0438\u0435 \u0431\u0438\u0437\u043d\u0435\u0441\u0430</td>\n",
      " </tr>\n",
      " <tr>\n",
      "  <td>11 \u2013 \u041a\u0440\u0435\u0434\u0438\u0442 \u043d\u0430 \u043f\u043e\u043f\u043e\u043b\u043d\u0435\u043d\u0438\u0435 \u043e\u0431\u043e\u0440\u043e\u0442\u043d\u044b\u0445 \u0441\u0440\u0435\u0434\u0441\u0442\u0432</td>\n",
      " </tr>\n",
      " <tr>\n",
      "  <td>12 \u2013 \u041a\u0440\u0435\u0434\u0438\u0442 \u043d\u0430 \u043f\u043e\u043a\u0443\u043f\u043a\u0443 \u043e\u0431\u043e\u0440\u0443\u0434\u043e\u0432\u0430\u043d\u0438\u044f</td>\n",
      " </tr>\n",
      " <tr>\n",
      "  <td>13 \u2013 \u041a\u0440\u0435\u0434\u0438\u0442 \u043d\u0430 \u0441\u0442\u0440\u043e\u0438\u0442\u0435\u043b\u044c\u0441\u0442\u0432\u043e \u043d\u0435\u0434\u0432\u0438\u0436\u0438\u043c\u043e\u0441\u0442\u0438</td>\n",
      " </tr>\n",
      " <tr>\n",
      "  <td>14 \u2013 \u041a\u0440\u0435\u0434\u0438\u0442 \u043d\u0430 \u043f\u043e\u043a\u0443\u043f\u043a\u0443 \u0430\u043a\u0446\u0438\u0439 (\u043d\u0430\u043f\u0440\u0438\u043c\u0435\u0440, \u043c\u0430\u0440\u0436\u0438\u043d\u0430\u043b\u044c\u043d\u043e\u0435 \u043a\u0440\u0435\u0434\u0438\u0442\u043e\u0432\u0430\u043d\u0438\u0435)</td>\n",
      " </tr>\n",
      " <tr>\n",
      "  <td>99 \u2013 \u0414\u0440\u0443\u0433\u043e\u0439</td>\n",
      " </tr>\n",
      " <tr>\n",
      "  <td><i>PMT_STRING_84M</i></td>\n",
      "  <td>\u0414\u0438\u0441\u0446\u0438\u043f\u043b\u0438\u043d\u0430 (\u0441\u0432\u043e\u0435\u0432\u0440\u0435\u043c\u0435\u043d\u043d\u043e\u0441\u0442\u044c) \u043f\u043b\u0430\u0442\u0435\u0436\u0435\u0439. \u0421\u0442\u0440\u043e\u043a\u0430 \u0441\u043e\u0441\u0442\u0430\u0432\u043b\u044f\u0435\u0442\u0441\u044f \u0438\u0437 \u043a\u043e\u0434\u043e\u0432 \u0441\u043e\u0441\u0442\u043e\u044f\u043d\u0438\u0439 \u0441\u0447\u0435\u0442\u0430 \u043d\u0430 \u043c\u043e\u043c\u0435\u043d\u0442\u044b \u043f\u0435\u0440\u0435\u0434\u0430\u0447\u0438 \u0431\u0430\u043d\u043a\u043e\u043c \u0434\u0430\u043d\u043d\u044b\u0445 \u043f\u043e \u0441\u0447\u0435\u0442\u0443 \u0432 \u0431\u044e\u0440\u043e, \u043f\u0435\u0440\u0432\u044b\u0439 \u0441\u0438\u043c\u0432\u043e\u043b - \u0441\u043e\u0441\u0442\u043e\u044f\u043d\u0438\u0435 \u043d\u0430 \u0434\u0430\u0442\u0443 PMT_STRING_START, \u0434\u0430\u043b\u0435\u0435 \u043f\u043e\u0441\u043b\u0435\u0434\u043e\u0432\u0430\u0442\u0435\u043b\u044c\u043d\u043e \u0432 \u043f\u043e\u0440\u044f\u0434\u043a\u0435 \u0443\u0431\u044b\u0432\u0430\u043d\u0438\u044f \u0434\u0430\u0442.</td>\n",
      "  <td >string</td>\n",
      " </tr>\n",
      " <tr>\n",
      "  <td rowspan=\"11\">&nbsp;</td>\n",
      "  <td>0 \u2013 \u041d\u043e\u0432\u044b\u0439, \u043e\u0446\u0435\u043d\u043a\u0430 \u043d\u0435\u0432\u043e\u0437\u043c\u043e\u0436\u043d\u0430</td>\n",
      "  <td rowspan=\"11\">&nbsp;</td>\n",
      " </tr>\n",
      " <tr>\n",
      "  <td>X \u2013 \u041d\u0435\u0442 \u0438\u043d\u0444\u043e\u0440\u043c\u0430\u0446\u0438\u0438</td>\n",
      " </tr>\n",
      " <tr>\n",
      "  <td>1 \u2013 \u041e\u043f\u043b\u0430\u0442\u0430 \u0431\u0435\u0437 \u043f\u0440\u043e\u0441\u0440\u043e\u0447\u0435\u043a</td>\n",
      " </tr>\n",
      " <tr>\n",
      "  <td>A \u2013 \u041f\u0440\u043e\u0441\u0440\u043e\u0447\u043a\u0430 \u043e\u0442 1 \u0434\u043e 29 \u0434\u043d\u0435\u0439</td>\n",
      " </tr>\n",
      " <tr>\n",
      "  <td>2 \u2013 \u041f\u0440\u043e\u0441\u0440\u043e\u0447\u043a\u0430 \u043e\u0442 30 \u0434\u043e 59 \u0434\u043d\u0435\u0439</td>\n",
      " </tr>\n",
      " <tr>\n",
      "  <td>3 \u2013 \u041f\u0440\u043e\u0441\u0440\u043e\u0447\u043a\u0430 \u043e\u0442 60 \u0434\u043e 89 \u0434\u043d\u0435\u0439</td>\n",
      " </tr>\n",
      " <tr>\n",
      "  <td>4 \u2013 \u041f\u0440\u043e\u0441\u0440\u043e\u0447\u043a\u0430 \u043e\u0442 90 \u0434\u043e 119 \u0434\u043d\u0435\u0439</td>\n",
      " </tr>\n",
      " <tr>\n",
      "  <td>5 \u2013 \u041f\u0440\u043e\u0441\u0440\u043e\u0447\u043a\u0430 \u0431\u043e\u043b\u0435\u0435 120 \u0434\u043d\u0435\u0439</td>\n",
      " </tr>\n",
      " <tr>\n",
      "  <td>7 \u2013 \u0420\u0435\u0433\u0443\u043b\u044f\u0440\u043d\u044b\u0435 \u043a\u043e\u043d\u0441\u043e\u043b\u0438\u0434\u0438\u0440\u043e\u0432\u0430\u043d\u043d\u044b\u0435 \u043f\u043b\u0430\u0442\u0435\u0436\u0438</td>\n",
      " </tr>\n",
      " <tr>\n",
      "  <td>8 \u2013 \u041f\u043e\u0433\u0430\u0448\u0435\u043d\u0438\u0435 \u043f\u043e \u043a\u0440\u0435\u0434\u0438\u0442\u0443 \u0441 \u0438\u0441\u043f\u043e\u043b\u044c\u0437\u043e\u0432\u0430\u043d\u0438\u0435\u043c \u0437\u0430\u043b\u043e\u0433\u0430</td>\n",
      " </tr>\n",
      " <tr>\n",
      "  <td>9 \u2013 \u0411\u0435\u0437\u043d\u0430\u0434\u0451\u0436\u043d\u044b\u0439 \u0434\u043e\u043b\u0433/ \u043f\u0435\u0440\u0435\u0434\u0430\u043d\u043e \u043d\u0430 \u0432\u0437\u044b\u0441\u043a\u0430\u043d\u0438\u0435/ \u043f\u0440\u043e\u043f\u0443\u0449\u0435\u043d\u043d\u044b\u0439 \u043f\u043b\u0430\u0442\u0435\u0436</td>\n",
      " </tr>\n",
      " <tr>\n",
      "  <td><i>STATUS</i></td>\n",
      "  <td>\u0421\u0442\u0430\u0442\u0443\u0441 \u0434\u043e\u0433\u043e\u0432\u043e\u0440\u0430</td>\n",
      "  <td>string</td>\n",
      " </tr>\n",
      " <tr>\n",
      "  <td rowspan=\"7\">&nbsp;</td>\n",
      "  <td>00 \u2013 \u0410\u043a\u0442\u0438\u0432\u043d\u044b\u0439</td>\n",
      "  <td rowspan=\"7\">&nbsp;</td>\n",
      " </tr>\n",
      " <tr>\n",
      "  <td>12 \u2013 \u041e\u043f\u043b\u0430\u0447\u0435\u043d \u0437\u0430 \u0441\u0447\u0435\u0442 \u043e\u0431\u0435\u0441\u043f\u0435\u0447\u0435\u043d\u0438\u044f</td>\n",
      " </tr>\n",
      " <tr>\n",
      "  <td>13 \u2013 \u0421\u0447\u0435\u0442 \u0437\u0430\u043a\u0440\u044b\u0442</td>\n",
      " </tr>\n",
      " <tr>\n",
      "  <td>14 \u2013 \u041f\u0435\u0440\u0435\u0434\u0430\u043d \u043d\u0430 \u043e\u0431\u0441\u043b\u0443\u0436\u0438\u0432\u0430\u043d\u0438\u0435 \u0432 \u0434\u0440\u0443\u0433\u043e\u0439 \u0431\u0430\u043d\u043a</td>\n",
      " </tr>\n",
      " <tr>\n",
      "  <td>21 \u2013 \u0421\u043f\u043e\u0440</td>\n",
      " </tr>\n",
      " <tr>\n",
      "  <td>52 \u2013 \u041f\u0440\u043e\u0441\u0440\u043e\u0447\u0435\u043d</td>\n",
      " </tr>\n",
      " <tr>\n",
      "  <td>61 \u2013 \u041f\u0440\u043e\u0431\u043b\u0435\u043c\u044b \u0441 \u0432\u043e\u0437\u0432\u0440\u0430\u0442\u043e\u043c</td>\n",
      " </tr>\n",
      " <tr>\n",
      "  <td><i>OUTSTANDING</i></td>\n",
      "  <td>\u041e\u0441\u0442\u0430\u0432\u0448\u0430\u044f\u0441\u044f \u043d\u0435\u043f\u043e\u0433\u0430\u0448\u0435\u043d\u043d\u0430\u044f \u0437\u0430\u0434\u043e\u043b\u0436\u0435\u043d\u043d\u043e\u0441\u0442\u044c. \u0421\u0443\u043c\u043c\u0430 \u0432 \u0440\u0443\u0431\u043b\u044f\u0445 \u043f\u043e \u043a\u0443\u0440\u0441\u0443 \u0426\u0411 \u0420\u0424</td>\n",
      "  <td>numeric</td>\n",
      " </tr>\n",
      " <tr>\n",
      "  <td><i>NEXT_PMT</i></td>\n",
      "  <td>\u0420\u0430\u0437\u043c\u0435\u0440 \u0441\u043b\u0435\u0434\u0443\u044e\u0449\u0435\u0433\u043e \u043f\u043b\u0430\u0442\u0435\u0436\u0430. \u0421\u0443\u043c\u043c\u0430 \u0432 \u0440\u0443\u0431\u043b\u044f\u0445 \u043f\u043e \u043a\u0443\u0440\u0441\u0443 \u0426\u0411 \u0420\u0424</td>\n",
      "  <td>numeric</td>\n",
      " </tr>\n",
      " <tr>\n",
      "  <td><i>INF_CONFIRM_DATE</i></td>\n",
      "  <td>\u0414\u0430\u0442\u0430 \u043f\u043e\u0434\u0442\u0432\u0435\u0440\u0436\u0434\u0435\u043d\u0438\u044f \u0438\u043d\u0444\u043e\u0440\u043c\u0430\u0446\u0438\u0438 \u043f\u043e \u0441\u0447\u0435\u0442\u0443</td>\n",
      "  <td >date</td>\n",
      " </tr>\n",
      " <tr>\n",
      "  <td><i>FACT_CLOSE_DATE</i></td>\n",
      "  <td>\u0414\u0430\u0442\u0430 \u0437\u0430\u043a\u0440\u044b\u0442\u0438\u044f \u0441\u0447\u0435\u0442\u0430 (\u0444\u0430\u043a\u0442\u0438\u0447\u0435\u0441\u043a\u0430\u044f)</td>\n",
      "  <td >date</td>\n",
      " </tr>\n",
      " <tr>\n",
      "  <td><i>TTL_DELQ_5</i></td>\n",
      "  <td>\u041a\u043e\u043b\u0438\u0447\u0435\u0441\u0442\u0432\u043e \u043f\u0440\u043e\u0441\u0440\u043e\u0447\u0435\u043a \u0434\u043e 5 \u0434\u043d\u0435\u0439</td>\n",
      "  <td >numeric</td>\n",
      " </tr>\n",
      " <tr>\n",
      "  <td><i>TTL_DELQ_5_29</i></td>\n",
      "  <td>\u041a\u043e\u043b\u0438\u0447\u0435\u0441\u0442\u0432\u043e \u043f\u0440\u043e\u0441\u0440\u043e\u0447\u0435\u043a \u043e\u0442 5 \u0434\u043e 29 \u0434\u043d\u0435\u0439</td>\n",
      "  <td >numeric</td>\n",
      " </tr>\n",
      " <tr>\n",
      "  <td><i>TTL_DELQ_30_59</i></td>\n",
      "  <td>\u041a\u043e\u043b\u0438\u0447\u0435\u0441\u0442\u0432\u043e \u043f\u0440\u043e\u0441\u0440\u043e\u0447\u0435\u043a \u043e\u0442 30 \u0434\u043e 59 \u0434\u043d\u0435\u0439</td>\n",
      "  <td>numeric</td>\n",
      " </tr>\n",
      " <tr>\n",
      "  <td><i>TTL_DELQ_60_89</i></td>\n",
      "  <td>\u041a\u043e\u043b\u0438\u0447\u0435\u0441\u0442\u0432\u043e \u043f\u0440\u043e\u0441\u0440\u043e\u0447\u0435\u043a \u043e\u0442 60 \u0434\u043e 89 \u0434\u043d\u0435\u0439</td>\n",
      "  <td >numeric</td>\n",
      " </tr>\n",
      " <tr>\n",
      "  <td><i>TTL_DELQ_30</i></td>\n",
      "  <td>\u041a\u043e\u043b\u0438\u0447\u0435\u0441\u0442\u0432\u043e \u043f\u0440\u043e\u0441\u0440\u043e\u0447\u0435\u043a \u0434\u043e 30 \u0434\u043d\u0435\u0439</td>\n",
      "  <td >numeric</td>\n",
      " </tr>\n",
      " <tr>\n",
      "  <td><i>TTL_DELQ_90_PLUS</i></td>\n",
      "  <td>\u041a\u043e\u043b\u0438\u0447\u0435\u0441\u0442\u0432\u043e \u043f\u0440\u043e\u0441\u0440\u043e\u0447\u0435\u043a 90+ \u0434\u043d\u0435\u0439</td>\n",
      "  <td >numeric</td>\n",
      " </tr>\n",
      " <tr>\n",
      "  <td><i>PMT_FREQ</i></td>\n",
      "  <td>\u041a\u043e\u0434 \u0447\u0430\u0441\u0442\u043e\u0442\u044b \u043f\u043b\u0430\u0442\u0435\u0436\u0435\u0439</td>\n",
      "  <td >string</td>\n",
      " </tr>\n",
      " <tr>\n",
      "  <td rowspan=\"9\">&nbsp;</td>\n",
      "  <td>1 \u2013 \u0415\u0436\u0435\u043d\u0435\u0434\u0435\u043b\u044c\u043d\u043e</td>\n",
      "  <td rowspan=\"9\">&nbsp;</td>\n",
      " </tr>\n",
      " <tr>\n",
      "  <td>2 \u2013 \u0420\u0430\u0437 \u0432 \u0434\u0432\u0435 \u043d\u0435\u0434\u0435\u043b\u0438</td>\n",
      " </tr>\n",
      " <tr>\n",
      "  <td>3 \u2013 \u0415\u0436\u0435\u043c\u0435\u0441\u044f\u0447\u043d\u043e</td>\n",
      " </tr>\n",
      " <tr>\n",
      "  <td>A - \u0420\u0430\u0437 \u0432 2 \u043c\u0435\u0441\u044f\u0446\u0430</td>\n",
      " </tr>\n",
      " <tr>\n",
      "  <td>4 \u2013 \u041f\u043e\u043a\u0432\u0430\u0440\u0442\u0430\u043b\u044c\u043d\u043e</td>\n",
      " </tr>\n",
      " <tr>\n",
      "  <td>B - \u0420\u0430\u0437 \u0432 4 \u043c\u0435\u0441\u044f\u0446\u0430</td>\n",
      " </tr>\n",
      " <tr>\n",
      "  <td>5 \u2013 \u0420\u0430\u0437 \u0432 \u043f\u043e\u043b\u0433\u043e\u0434\u0430</td>\n",
      " </tr>\n",
      " <tr>\n",
      "  <td>6 - \u0415\u0436\u0435\u0433\u043e\u0434\u043d\u043e</td>\n",
      " </tr>\n",
      " <tr>\n",
      "  <td>7 \u2013 \u0414\u0440\u0443\u0433\u043e\u0435</td>\n",
      " </tr>\n",
      " <tr>\n",
      "  <td><i>CREDIT_LIMIT</i></td>\n",
      "  <td>\u041a\u0440\u0435\u0434\u0438\u0442\u043d\u044b\u0439 \u043b\u0438\u043c\u0438\u0442. \u0421\u0443\u043c\u043c\u0430 \u0432 \u0440\u0443\u0431\u043b\u044f\u0445 \u043f\u043e \u043a\u0443\u0440\u0441\u0443 \u0426\u0411 \u0420\u0424</td>\n",
      "  <td style='border-left:none'>numeric</td>\n",
      " </tr>\n",
      " <tr>\n",
      "  <td><i>DELQ_BALANCE</i></td>\n",
      "  <td>\u0422\u0435\u043a\u0443\u0449\u0430\u044f \u043f\u0440\u043e\u0441\u0440\u043e\u0447\u0435\u043d\u043d\u0430\u044f \u0437\u0430\u0434\u043e\u043b\u0436\u0435\u043d\u043d\u043e\u0441\u0442\u044c. \u0421\u0443\u043c\u043c\u0430 \u0432 \u0440\u0443\u0431\u043b\u044f\u0445 \u043f\u043e \u043a\u0443\u0440\u0441\u0443 \u0426\u0411\n",
      "  \u0420\u0424</td>\n",
      "  <td >numeric</td>\n",
      " </tr>\n",
      " <tr>\n",
      "  <td><i>MAX_DELQ_BALANCE</i></td>\n",
      "  <td>\u041c\u0430\u043a\u0441\u0438\u043c\u0430\u043b\u044c\u043d\u044b\u0439 \u043e\u0431\u044a\u0435\u043c \u043f\u0440\u043e\u0441\u0440\u043e\u0447\u0435\u043d\u043d\u043e\u0439 \u0437\u0430\u0434\u043e\u043b\u0436\u0435\u043d\u043d\u043e\u0441\u0442\u0438. \u0421\u0443\u043c\u043c\u0430 \u0432 \u0440\u0443\u0431\u043b\u044f\u0445 \u043f\u043e \u043a\u0443\u0440\u0441\u0443 \u0426\u0411 \u0420\u0424</td>\n",
      "  <td >numeric</td>\n",
      " </tr>\n",
      " <tr>\n",
      "  <td><i>CURRENT_DELQ</i></td>\n",
      "  <td>\u0422\u0435\u043a\u0443\u0449\u0435\u0435 \u043a\u043e\u043b\u0438\u0447\u0435\u0441\u0442\u0432\u043e \u0434\u043d\u0435\u0439 \u043f\u0440\u043e\u0441\u0440\u043e\u0447\u043a\u0438</td>\n",
      "  <td >numeric</td>\n",
      " </tr>\n",
      " <tr>\n",
      "  <td><i>PMT_STRING_START</i></td>\n",
      "  <td>\u0414\u0430\u0442\u0430 \u043d\u0430\u0447\u0430\u043b\u0430 \u0441\u0442\u0440\u043e\u043a\u0438 PMT_STRING_84M</td>\n",
      "  <td>date</td>\n",
      " </tr>\n",
      " <tr>\n",
      "  <td><i>INTEREST_RATE</i></td>\n",
      "  <td>\u041f\u0440\u043e\u0446\u0435\u043d\u0442\u043d\u0430\u044f \u0441\u0442\u0430\u0432\u043a\u0430 \u043f\u043e \u043a\u0440\u0435\u0434\u0438\u0442\u0443</td>\n",
      "  <td>numeric</td>\n",
      " </tr>\n",
      " <tr>\n",
      "  <td><i>CURR_BALANCE_AMT</i></td>\n",
      "  <td>\u041e\u0431\u0449\u0430\u044f \u0432\u044b\u043f\u043b\u0430\u0447\u0435\u043d\u043d\u0430\u044f \u0441\u0443\u043c\u043c\u0430, \u0432\u043a\u043b\u044e\u0447\u0430\u044f \u0441\u0443\u043c\u043c\u0443 \u043e\u0441\u043d\u043e\u0432\u043d\u043e\u0433\u043e \u0434\u043e\u043b\u0433\u0430, \u043f\u0440\u043e\u0446\u0435\u043d\u0442\u044b, \u043f\u0435\u043d\u0438 \u0438 \u0448\u0442\u0440\u0430\u0444\u044b. \u0421\u0443\u043c\u043c\u0430 \u0432 \u0440\u0443\u0431\u043b\u044f\u0445 \u043f\u043e \u043a\u0443\u0440\u0441\u0443 \u0426\u0411 \u0420\u0424</td>\n",
      "  <td >numeric</td>\n",
      " </tr>\n",
      "</table>"
     ]
    },
    {
     "cell_type": "markdown",
     "metadata": {},
     "source": [
      "\u0417\u0430\u0434\u0430\u0447\u0430 \u0441\u043e\u0441\u0442\u043e\u0438\u0442 \u0432 \u0442\u043e\u043c, \u0447\u0442\u043e\u0431\u044b \u043d\u0430 \u0432\u044b\u0431\u043e\u0440\u043a\u0435 <i>\u00abtrain\u00bb</i> \u043d\u0435\u043e\u0431\u0445\u043e\u0434\u0438\u043c\u043e \u043f\u043e\u0441\u0442\u0440\u043e\u0438\u0442\u044c \u043c\u043e\u0434\u0435\u043b\u044c, \u043e\u043f\u0440\u0435\u0434\u0435\u043b\u044f\u044e\u0449\u0443\u044e \u0432\u0435\u0440\u043e\u044f\u0442\u043d\u043e\u0441\u0442\u044c \"\u0434\u0435\u0444\u043e\u043b\u0442\u0430\", \u0438 \u043f\u0440\u043e\u0441\u0442\u0430\u0432\u0438\u0442\u044c \u0432\u0435\u0440\u043e\u044f\u0442\u043d\u043e\u0441\u0442\u0438 \"\u0434\u0435\u0444\u043e\u043b\u0442\u0430\" \u043f\u043e \u043a\u043b\u0438\u0435\u043d\u0442\u0430\u043c \u0438\u0437 \u0432\u044b\u0431\u043e\u0440\u043a\u0438 <i>\u00abtest\u00bb</i>. \u0414\u043b\u044f \u043e\u0446\u0435\u043d\u043a\u0438 \u043c\u043e\u0434\u0435\u043b\u0438 \u0431\u0443\u0434\u0435\u0442 \u0438\u0441\u043f\u043e\u043b\u044c\u0437\u043e\u0432\u0430\u0442\u044c\u0441\u044f \u0445\u0430\u0440\u0430\u043a\u0442\u0435\u0440\u0438\u0441\u0442\u0438\u043a\u0430 <b>Area Under ROC Curve</b> (\u0442\u0430\u043a\u0436\u0435 \u0443\u043a\u0430\u0437\u0430\u043d\u043e \u0432 \u0443\u0441\u043b\u043e\u0432\u0438\u044f\u0445 \u0437\u0430\u0434\u0430\u0447\u0438)"
     ]
    },
    {
     "cell_type": "heading",
     "level": 4,
     "metadata": {},
     "source": [
      "\u041f\u0440\u0435\u0434\u0432\u0430\u0440\u0438\u0442\u0435\u043b\u044c\u043d\u0430\u044f \u043e\u0431\u0440\u0430\u0431\u043e\u0442\u043a\u0430 \u0434\u0430\u043d\u043d\u044b\u0445"
     ]
    },
    {
     "cell_type": "markdown",
     "metadata": {},
     "source": [
      "\u0414\u043b\u044f \u043d\u0430\u0447\u0430\u043b\u0430 \u0437\u0430\u0433\u0440\u0443\u0437\u0438\u043c \u0438\u0441\u0445\u043e\u0434\u043d\u044b\u0435 \u0444\u0430\u0439\u043b\u044b \u0438 \u043f\u043e\u0441\u043c\u043e\u0442\u0440\u0438\u043c \u043d\u0430 \u043d\u0438\u0445:"
     ]
    },
    {
     "cell_type": "code",
     "collapsed": false,
     "input": [
      "from pandas import read_csv, DataFrame\n",
      "from sklearn.metrics import roc_curve\n",
      "from sklearn.ensemble import RandomForestClassifier, GradientBoostingClassifier\n",
      "from sklearn.cross_validation import train_test_split\n",
      "from sklearn.naive_bayes import GaussianNB\n",
      "from sklearn.neighbors import KNeighborsClassifier\n",
      "from sklearn.decomposition import PCA\n",
      "import ml_metrics, string, re, pylab as pl"
     ],
     "language": "python",
     "metadata": {},
     "outputs": [],
     "prompt_number": 59
    },
    {
     "cell_type": "code",
     "collapsed": false,
     "input": [
      "SampleCustomers = read_csv(\"https://static.tcsbank.ru/documents/olymp/SAMPLE_CUSTOMERS.csv\", ';')\n",
      "SampleAccounts = read_csv(\"https://static.tcsbank.ru/documents/olymp/SAMPLE_ACCOUNTS.csv\",\";\",decimal =',')"
     ],
     "language": "python",
     "metadata": {},
     "outputs": [],
     "prompt_number": 2
    },
    {
     "cell_type": "code",
     "collapsed": false,
     "input": [
      "SampleAccounts"
     ],
     "language": "python",
     "metadata": {},
     "outputs": [
      {
       "html": [
        "<pre>\n",
        "&lt;class 'pandas.core.frame.DataFrame'&gt;\n",
        "Int64Index: 280942 entries, 0 to 280941\n",
        "Data columns (total 28 columns):\n",
        "tcs_customer_id     280942  non-null values\n",
        "bureau_cd           280942  non-null values\n",
        "bki_request_date    280942  non-null values\n",
        "inf_confirm_date    280942  non-null values\n",
        "type                280942  non-null values\n",
        "status              280942  non-null values\n",
        "open_date           280942  non-null values\n",
        "final_pmt_date      262331  non-null values\n",
        "fact_close_date     138429  non-null values\n",
        "credit_limit        280942  non-null values\n",
        "currency            280942  non-null values\n",
        "outstanding         227030  non-null values\n",
        "next_pmt            127816  non-null values\n",
        "curr_balance_amt    102436  non-null values\n",
        "current_delq        227249  non-null values\n",
        "ttl_delq_5          280942  non-null values\n",
        "ttl_delq_5_29       280942  non-null values\n",
        "ttl_delq_30         280942  non-null values\n",
        "ttl_delq_30_59      280942  non-null values\n",
        "ttl_delq_60_89      280942  non-null values\n",
        "ttl_delq_90_plus    280942  non-null values\n",
        "pmt_string_start    268870  non-null values\n",
        "pmt_string_84m      274030  non-null values\n",
        "delq_balance        280915  non-null values\n",
        "max_delq_balance    280915  non-null values\n",
        "interest_rate       280942  non-null values\n",
        "pmt_freq            280732  non-null values\n",
        "relationship        280942  non-null values\n",
        "dtypes: float64(8), int64(16), object(4)\n",
        "</pre>"
       ],
       "metadata": {},
       "output_type": "pyout",
       "prompt_number": 3,
       "text": [
        "<class 'pandas.core.frame.DataFrame'>\n",
        "Int64Index: 280942 entries, 0 to 280941\n",
        "Data columns (total 28 columns):\n",
        "tcs_customer_id     280942  non-null values\n",
        "bureau_cd           280942  non-null values\n",
        "bki_request_date    280942  non-null values\n",
        "inf_confirm_date    280942  non-null values\n",
        "type                280942  non-null values\n",
        "status              280942  non-null values\n",
        "open_date           280942  non-null values\n",
        "final_pmt_date      262331  non-null values\n",
        "fact_close_date     138429  non-null values\n",
        "credit_limit        280942  non-null values\n",
        "currency            280942  non-null values\n",
        "outstanding         227030  non-null values\n",
        "next_pmt            127816  non-null values\n",
        "curr_balance_amt    102436  non-null values\n",
        "current_delq        227249  non-null values\n",
        "ttl_delq_5          280942  non-null values\n",
        "ttl_delq_5_29       280942  non-null values\n",
        "ttl_delq_30         280942  non-null values\n",
        "ttl_delq_30_59      280942  non-null values\n",
        "ttl_delq_60_89      280942  non-null values\n",
        "ttl_delq_90_plus    280942  non-null values\n",
        "pmt_string_start    268870  non-null values\n",
        "pmt_string_84m      274030  non-null values\n",
        "delq_balance        280915  non-null values\n",
        "max_delq_balance    280915  non-null values\n",
        "interest_rate       280942  non-null values\n",
        "pmt_freq            280732  non-null values\n",
        "relationship        280942  non-null values\n",
        "dtypes: float64(8), int64(16), object(4)"
       ]
      }
     ],
     "prompt_number": 3
    },
    {
     "cell_type": "code",
     "collapsed": false,
     "input": [
      "SampleCustomers.head()"
     ],
     "language": "python",
     "metadata": {},
     "outputs": [
      {
       "html": [
        "<div style=\"max-height:1000px;max-width:1500px;overflow:auto;\">\n",
        "<table border=\"1\" class=\"dataframe\">\n",
        "  <thead>\n",
        "    <tr style=\"text-align: right;\">\n",
        "      <th></th>\n",
        "      <th>tcs_customer_id</th>\n",
        "      <th>bad</th>\n",
        "      <th>sample_type</th>\n",
        "    </tr>\n",
        "  </thead>\n",
        "  <tbody>\n",
        "    <tr>\n",
        "      <th>0</th>\n",
        "      <td> 1</td>\n",
        "      <td>NaN</td>\n",
        "      <td>  test</td>\n",
        "    </tr>\n",
        "    <tr>\n",
        "      <th>1</th>\n",
        "      <td> 2</td>\n",
        "      <td>  0</td>\n",
        "      <td> train</td>\n",
        "    </tr>\n",
        "    <tr>\n",
        "      <th>2</th>\n",
        "      <td> 3</td>\n",
        "      <td>  1</td>\n",
        "      <td> train</td>\n",
        "    </tr>\n",
        "    <tr>\n",
        "      <th>3</th>\n",
        "      <td> 4</td>\n",
        "      <td>  0</td>\n",
        "      <td> train</td>\n",
        "    </tr>\n",
        "    <tr>\n",
        "      <th>4</th>\n",
        "      <td> 5</td>\n",
        "      <td>  0</td>\n",
        "      <td> train</td>\n",
        "    </tr>\n",
        "  </tbody>\n",
        "</table>\n",
        "</div>"
       ],
       "metadata": {},
       "output_type": "pyout",
       "prompt_number": 4,
       "text": [
        "   tcs_customer_id  bad sample_type\n",
        "0                1  NaN        test\n",
        "1                2    0       train\n",
        "2                3    1       train\n",
        "3                4    0       train\n",
        "4                5    0       train"
       ]
      }
     ],
     "prompt_number": 4
    },
    {
     "cell_type": "markdown",
     "metadata": {},
     "source": [
      "\u0418\u0437 \u0443\u0441\u043b\u043e\u0432\u0438\u0439 \u0437\u0430\u0434\u0430\u0447\u0438 \u043c\u043e\u0436\u043d\u043e \u043f\u0440\u0435\u0434\u043f\u043e\u043b\u043e\u0436\u0438\u0442\u044c, \u0447\u0442\u043e \u043d\u0430\u0431\u043e\u0440 SampleAccounts \u0441\u043e\u0434\u0435\u0440\u0436\u0438\u0442 \u043d\u0435\u0441\u043a\u043e\u043b\u044c\u043a\u043e \u0437\u0430\u043f\u0438\u0441\u0435\u0439 \u043f\u043e \u043e\u0434\u043d\u043e\u043c\u0443 \u0437\u0430\u0435\u043c\u0449\u0438\u043a\u0443 \u0434\u0430\u0432\u0430\u0439\u0442\u0435 \u043f\u0440\u043e\u0432\u0435\u0440\u0438\u043c \u044d\u0442\u043e:"
     ]
    },
    {
     "cell_type": "code",
     "collapsed": false,
     "input": [
      "\"%s from %s\" % (SampleAccounts.tcs_customer_id.drop_duplicates().count(), SampleAccounts.tcs_customer_id.count())"
     ],
     "language": "python",
     "metadata": {},
     "outputs": [
      {
       "metadata": {},
       "output_type": "pyout",
       "prompt_number": 5,
       "text": [
        "'50000 from 280942'"
       ]
      }
     ],
     "prompt_number": 5
    },
    {
     "cell_type": "markdown",
     "metadata": {},
     "source": [
      "\u041d\u0430\u0448\u0435 \u043f\u0440\u0435\u0434\u043f\u043e\u043b\u043e\u0436\u0435\u043d\u0438\u0435 \u043e\u043a\u0430\u0437\u0430\u043b\u043e\u0441\u044c \u0432\u0435\u0440\u043d\u044b\u043c. \u042d\u0442\u043e \u0441\u0432\u044f\u0437\u0430\u043d\u043e \u0441 \u0442\u0435\u043c, \u0447\u0442\u043e \u0443 \u043e\u0434\u043d\u043e \u0437\u0430\u0435\u043c\u0449\u0438\u043a\u0430 \u0431\u044b\u0442\u044c \u043d\u0435\u0441\u043a\u043e\u043b\u044c\u043a\u043e \u043a\u0440\u0435\u0434\u0438\u0442\u043e\u0432 \u0438 \u043f\u043e \u043a\u0430\u0436\u0434\u043e\u043c\u0443 \u0438\u0437 \u043d\u0438\u0445 \u0432 \u0440\u0430\u0437\u043d\u044b\u0445 \u0431\u044e\u0440\u0430 \u043c\u043e\u0442\u0435 \u0431\u044b\u0442\u044c \u0440\u0430\u0437\u043d\u0430\u044f \u0438\u043d\u0444\u043e\u0440\u043c\u0430\u0446\u0438\u044f. \u0421\u043b\u0435\u0434\u043e\u0432\u0430\u0442\u0435\u043b\u044c\u043d\u043e, \u043d\u0430\u0434\u043e \u0432\u044b\u043f\u043e\u043b\u043d\u0438\u0442\u044c \u043f\u0440\u0435\u043e\u0431\u0440\u0430\u0437\u043e\u0432\u0430\u043d\u0438\u044f \u043d\u0430\u0434 SampleAccounts, \u0447\u0442\u043e\u0431\u044b \u043e\u0434\u043d\u043e\u043c\u0443 \u0437\u0430\u0435\u043c\u0449\u0438\u043a\u0443 \u0441\u043e\u043e\u0442\u0432\u0435\u0442\u0441\u0442\u0432\u043e\u0432\u0430\u043b\u0430 \u043e\u0434\u043d\u0430 \u0441\u0442\u0440\u043e\u043a\u0430."
     ]
    },
    {
     "cell_type": "markdown",
     "metadata": {},
     "source": [
      "\u0414\u043b\u044f \u043d\u0430\u0447\u0430\u043b\u0430 \u043d\u0430\u043c \u043d\u0443\u0436\u043d\u043e \u043f\u043e\u043b\u0443\u0447\u0438\u043c \u0441\u043f\u0438\u0441\u043e\u043a \u0432\u0441\u0435 \u0443\u043d\u0438\u043a\u0430\u043b\u044c\u043d\u044b\u0445 \u043a\u0440\u0435\u0434\u0438\u0442\u043e\u0432 \u043f\u043e \u0437\u0430\u0435\u043c\u0449\u0438\u043a\u0443:"
     ]
    },
    {
     "cell_type": "code",
     "collapsed": false,
     "input": [
      "SampleAccounts[['tcs_customer_id','open_date','final_pmt_date','credit_limit','currency']].drop_duplicates()"
     ],
     "language": "python",
     "metadata": {},
     "outputs": [
      {
       "html": [
        "<pre>\n",
        "&lt;class 'pandas.core.frame.DataFrame'&gt;\n",
        "Int64Index: 188376 entries, 0 to 280940\n",
        "Data columns (total 5 columns):\n",
        "tcs_customer_id    188376  non-null values\n",
        "open_date          188376  non-null values\n",
        "final_pmt_date     175010  non-null values\n",
        "credit_limit       188376  non-null values\n",
        "currency           188376  non-null values\n",
        "dtypes: float64(1), int64(3), object(1)\n",
        "</pre>"
       ],
       "metadata": {},
       "output_type": "pyout",
       "prompt_number": 6,
       "text": [
        "<class 'pandas.core.frame.DataFrame'>\n",
        "Int64Index: 188376 entries, 0 to 280940\n",
        "Data columns (total 5 columns):\n",
        "tcs_customer_id    188376  non-null values\n",
        "open_date          188376  non-null values\n",
        "final_pmt_date     175010  non-null values\n",
        "credit_limit       188376  non-null values\n",
        "currency           188376  non-null values\n",
        "dtypes: float64(1), int64(3), object(1)"
       ]
      }
     ],
     "prompt_number": 6
    },
    {
     "cell_type": "markdown",
     "metadata": {},
     "source": [
      "\u0421\u043b\u0435\u0434\u043e\u0432\u0430\u0442\u0435\u043b\u044c\u043d\u043e, \u043a\u043e\u0433\u0434\u0430 \u043c\u044b \u043f\u043e\u043b\u0443\u0447\u0438\u043b\u0438 \u0441\u043f\u0438\u0441\u043e\u043a \u043a\u0440\u0435\u0434\u0438\u0442\u043e\u0432, \u043c\u044b \u0441\u043c\u043e\u0436\u0435\u043c \u0432\u044b\u0432\u0435\u0441\u0442\u0438 \u043a\u0430\u043a\u0443\u044e-\u043b\u0438\u0431\u043e \u043e\u0431\u0449\u0443\u044e \u0438\u043d\u0444\u043e\u0440\u043c\u0430\u0446\u0438\u044e \u043f\u043e \u043a\u0430\u0436\u0434\u043e\u043c\u0443 \u044d\u043b\u0435\u043c\u0435\u043d\u0442\u0443 \u0441\u043f\u0438\u0441\u043a\u0430. \u0422.\u0435. \u043c\u044b \u043c\u043e\u0433\u043b\u0438 \u0431\u044b \u0432\u0437\u044f\u0442\u044c \u0441\u0432\u044f\u0437\u043a\u0443 \u0438\u0437 \u043f\u0435\u0440\u0435\u0447\u0438\u0441\u043b\u0435\u043d\u043d\u044b\u0445 \u0432\u044b\u0448\u0435 \u043f\u043e\u043b\u0435\u0439 \u0438 \u0441\u0434\u0435\u043b\u0430\u0442\u044c \u0435\u0435 \u0438\u043d\u0434\u0435\u043a\u0441\u043e\u043c, \u043e\u0442\u043d\u043e\u0441\u0438\u0442\u0435\u043b\u044c\u043d\u043e \u043a\u043e\u0442\u043e\u0440\u043e\u0433\u043e \u043c\u044b \u0431\u044b \u043f\u0440\u043e\u0438\u0437\u0432\u043e\u0434\u0438\u043b\u0438 \u0434\u0430\u043b\u044c\u043d\u0435\u0439\u0448\u0438\u0435 \u043c\u0430\u043d\u0438\u043f\u0443\u043b\u044f\u0446\u0438\u0438, \u043d\u043e, \u043a \u0441\u043e\u0436\u0430\u043b\u0435\u043d\u0438\u044e, \u0442\u0443\u0442 \u043d\u0430\u0441 \u043f\u043e\u0434\u0441\u0442\u0435\u0440\u0435\u0433\u0430\u0435\u0442 \u043e\u0434\u0438\u043d \u043d\u0435\u043f\u0440\u0438\u044f\u0442\u043d\u044b\u0439 \u043c\u043e\u043c\u0435\u043d\u0442. \u041e\u043d \u0437\u0430\u043a\u043b\u044e\u0447\u0430\u0435\u0442\u0441\u044f \u0432 \u0442\u043e\u043c, \u0447\u0442\u043e \u043f\u043e\u043b\u0435 'final_pmt_date' \u0432 \u043d\u0430\u0431\u043e\u0440\u0435 \u0434\u0430\u043d\u043d\u044b\u0445 \u0438\u043c\u0435\u0435\u0442 \u043d\u0435\u043e\u043f\u0440\u0435\u0434\u0435\u043b\u0435\u043d\u043d\u044b\u0435 \u0437\u043d\u0430\u0447\u0435\u043d\u0438\u044f. \u0414\u0430\u0432\u0430\u0439\u0442\u0435 \u043f\u043e\u043f\u0440\u043e\u0431\u0443\u0435\u043c \u0438\u0437\u0431\u0430\u0432\u0438\u0442\u044c\u0441\u044f \u043e\u0442 \u043d\u0438\u0445."
     ]
    },
    {
     "cell_type": "markdown",
     "metadata": {},
     "source": [
      "\u0418\u0442\u0430\u043a, \u0443 \u043d\u0430\u0441 \u0432 \u043d\u0430\u0431\u043e\u0440\u0435 \u0435\u0441\u0442\u044c \u043f\u043e\u043b\u0435 \u0444\u0430\u043a\u0442\u0438\u0447\u0435\u0441\u043a\u0430\u044f \u0434\u0430\u0442\u0430 \u0437\u0430\u043a\u0440\u044b\u0442\u0438\u044f \u043a\u0440\u0435\u0434\u0438\u0442\u0430, \u0441\u043b\u0435\u0434\u043e\u0432\u0430\u0442\u0435\u043b\u044c\u043d\u043e, \u0435\u0441\u043b\u0438 \u043e\u043d\u0430 \u0435\u0441\u0442\u044c, \u0430 \u043f\u043e\u043b\u0435 'final_pmt_date' \u043d\u0435 \u0437\u0430\u043f\u043e\u043b\u043d\u0435\u043d\u043e, \u0442\u043e \u043c\u043e\u0436\u043d\u043e \u0432 \u043d\u0435\u0433\u043e \u0437\u0430\u043f\u0438\u0441\u0430\u0442\u044c \u0434\u0430\u043d\u043d\u043e\u0435 \u0437\u043d\u0430\u0447\u0435\u043d\u0438\u0435. \u0414\u043b\u044f \u043e\u0441\u0442\u0430\u043b\u044c\u043d\u044b\u0445 \u0436\u0435 \u043f\u0440\u043e\u0441\u0442\u043e \u0437\u0430\u043f\u0438\u0448\u0435\u043c 0."
     ]
    },
    {
     "cell_type": "code",
     "collapsed": false,
     "input": [
      "SampleAccounts.final_pmt_date[SampleAccounts.final_pmt_date.isnull()] = SampleAccounts.fact_close_date[SampleAccounts.final_pmt_date.isnull()].astype(float)\n",
      "SampleAccounts.final_pmt_date.fillna(0, inplace=True)"
     ],
     "language": "python",
     "metadata": {},
     "outputs": [],
     "prompt_number": 7
    },
    {
     "cell_type": "markdown",
     "metadata": {},
     "source": [
      "\u0422\u0435\u043f\u0435\u0440\u044c, \u043a\u043e\u0433\u0434\u0430 \u043e\u0442 \u043f\u0443\u0441\u0442\u044b\u0445 \u0437\u043d\u0430\u0447\u0435\u043d\u0438\u0439 \u043c\u044b \u0438\u0437\u0431\u0430\u0432\u0438\u043b\u0438\u0441\u044c, \u0434\u0430\u0432\u0430\u0439\u0442\u0435 \u043f\u043e\u043b\u0443\u0447\u0438\u043c \u0441\u0430\u043c\u0443\u044e \u0441\u0432\u0435\u0436\u0443\u044e \u0434\u0430\u0442\u0443 \u043e\u0431\u0440\u0430\u0449\u0435\u043d\u0438\u044f \u0432 \u043a\u0430\u043a\u043e\u0435-\u043b\u0438\u0431\u043e \u0438\u0437 \u0431\u044e\u0440\u043e \u043f\u043e \u043a\u0430\u0436\u0434\u043e\u043c\u0443 \u0438\u0437 \u043a\u0440\u0435\u0434\u0438\u0442\u043e\u0432. \u042d\u0442\u043e \u043f\u0440\u0438\u0433\u043e\u0434\u0438\u0442\u044c\u0441\u044f \u043d\u0430\u043c \u0434\u043b\u044f \u043e\u043f\u0440\u0435\u0434\u0435\u043b\u0435\u043d\u0438\u044f \u0435\u0433\u043e \u0430\u0442\u0440\u0438\u0431\u0443\u0442\u043e\u0432, \u0442\u0430\u043a\u0438\u0445 \u043a\u0430\u043a \u0441\u0442\u0430\u0442\u0443\u0441 \u0434\u043e\u0433\u043e\u0432\u043e\u0440\u0430, \u0442\u0438\u043f \u0438 \u0442.\u0434."
     ]
    },
    {
     "cell_type": "code",
     "collapsed": false,
     "input": [
      "sumtbl = SampleAccounts.pivot_table(['inf_confirm_date'],\n",
      "                                    ['tcs_customer_id','open_date','final_pmt_date','credit_limit','currency'], \n",
      "                                    aggfunc='max')\n",
      "sumtbl.head(15)"
     ],
     "language": "python",
     "metadata": {},
     "outputs": [
      {
       "html": [
        "<div style=\"max-height:1000px;max-width:1500px;overflow:auto;\">\n",
        "<table border=\"1\" class=\"dataframe\">\n",
        "  <thead>\n",
        "    <tr style=\"text-align: right;\">\n",
        "      <th></th>\n",
        "      <th></th>\n",
        "      <th></th>\n",
        "      <th></th>\n",
        "      <th></th>\n",
        "      <th>inf_confirm_date</th>\n",
        "    </tr>\n",
        "    <tr>\n",
        "      <th>tcs_customer_id</th>\n",
        "      <th>open_date</th>\n",
        "      <th>final_pmt_date</th>\n",
        "      <th>credit_limit</th>\n",
        "      <th>currency</th>\n",
        "      <th></th>\n",
        "    </tr>\n",
        "  </thead>\n",
        "  <tbody>\n",
        "    <tr>\n",
        "      <th rowspan=\"8\" valign=\"top\">1</th>\n",
        "      <th>39261</th>\n",
        "      <th>39629</th>\n",
        "      <th>19421 </th>\n",
        "      <th>RUB</th>\n",
        "      <td> 39924</td>\n",
        "    </tr>\n",
        "    <tr>\n",
        "      <th>39505</th>\n",
        "      <th>39870</th>\n",
        "      <th>30000 </th>\n",
        "      <th>RUB</th>\n",
        "      <td> 39862</td>\n",
        "    </tr>\n",
        "    <tr>\n",
        "      <th>39644</th>\n",
        "      <th>40042</th>\n",
        "      <th>11858 </th>\n",
        "      <th>RUB</th>\n",
        "      <td> 40043</td>\n",
        "    </tr>\n",
        "    <tr>\n",
        "      <th>39876</th>\n",
        "      <th>41701</th>\n",
        "      <th>300000</th>\n",
        "      <th>RUB</th>\n",
        "      <td> 40766</td>\n",
        "    </tr>\n",
        "    <tr>\n",
        "      <th>39942</th>\n",
        "      <th>40308</th>\n",
        "      <th>19691 </th>\n",
        "      <th>RUB</th>\n",
        "      <td> 40435</td>\n",
        "    </tr>\n",
        "    <tr>\n",
        "      <th>40421</th>\n",
        "      <th>42247</th>\n",
        "      <th>169000</th>\n",
        "      <th>RUB</th>\n",
        "      <td> 40756</td>\n",
        "    </tr>\n",
        "    <tr>\n",
        "      <th>40428</th>\n",
        "      <th>51386</th>\n",
        "      <th>10000 </th>\n",
        "      <th>RUB</th>\n",
        "      <td> 40758</td>\n",
        "    </tr>\n",
        "    <tr>\n",
        "      <th>40676</th>\n",
        "      <th>41040</th>\n",
        "      <th>28967 </th>\n",
        "      <th>RUB</th>\n",
        "      <td> 40764</td>\n",
        "    </tr>\n",
        "    <tr>\n",
        "      <th rowspan=\"2\" valign=\"top\">2</th>\n",
        "      <th>40472</th>\n",
        "      <th>40618</th>\n",
        "      <th>7551  </th>\n",
        "      <th>RUB</th>\n",
        "      <td> 40661</td>\n",
        "    </tr>\n",
        "    <tr>\n",
        "      <th>40652</th>\n",
        "      <th>40958</th>\n",
        "      <th>21186 </th>\n",
        "      <th>RUB</th>\n",
        "      <td> 40661</td>\n",
        "    </tr>\n",
        "    <tr>\n",
        "      <th rowspan=\"2\" valign=\"top\">3</th>\n",
        "      <th>39647</th>\n",
        "      <th>40068</th>\n",
        "      <th>22694 </th>\n",
        "      <th>RUB</th>\n",
        "      <td> 40069</td>\n",
        "    </tr>\n",
        "    <tr>\n",
        "      <th>40604</th>\n",
        "      <th>0    </th>\n",
        "      <th>20000 </th>\n",
        "      <th>RUB</th>\n",
        "      <td> 40624</td>\n",
        "    </tr>\n",
        "    <tr>\n",
        "      <th rowspan=\"3\" valign=\"top\">4</th>\n",
        "      <th>38552</th>\n",
        "      <th>40378</th>\n",
        "      <th>75000 </th>\n",
        "      <th>RUB</th>\n",
        "      <td> 40479</td>\n",
        "    </tr>\n",
        "    <tr>\n",
        "      <th>39493</th>\n",
        "      <th>39797</th>\n",
        "      <th>5000  </th>\n",
        "      <th>RUB</th>\n",
        "      <td> 39823</td>\n",
        "    </tr>\n",
        "    <tr>\n",
        "      <th>39759</th>\n",
        "      <th>40123</th>\n",
        "      <th>6023  </th>\n",
        "      <th>RUB</th>\n",
        "      <td> 40125</td>\n",
        "    </tr>\n",
        "  </tbody>\n",
        "</table>\n",
        "</div>"
       ],
       "metadata": {},
       "output_type": "pyout",
       "prompt_number": 8,
       "text": [
        "                                                                inf_confirm_date\n",
        "tcs_customer_id open_date final_pmt_date credit_limit currency                  \n",
        "1               39261     39629          19421        RUB                  39924\n",
        "                39505     39870          30000        RUB                  39862\n",
        "                39644     40042          11858        RUB                  40043\n",
        "                39876     41701          300000       RUB                  40766\n",
        "                39942     40308          19691        RUB                  40435\n",
        "                40421     42247          169000       RUB                  40756\n",
        "                40428     51386          10000        RUB                  40758\n",
        "                40676     41040          28967        RUB                  40764\n",
        "2               40472     40618          7551         RUB                  40661\n",
        "                40652     40958          21186        RUB                  40661\n",
        "3               39647     40068          22694        RUB                  40069\n",
        "                40604     0              20000        RUB                  40624\n",
        "4               38552     40378          75000        RUB                  40479\n",
        "                39493     39797          5000         RUB                  39823\n",
        "                39759     40123          6023         RUB                  40125"
       ]
      }
     ],
     "prompt_number": 8
    },
    {
     "cell_type": "markdown",
     "metadata": {},
     "source": [
      "\u0422\u0435\u043f\u0435\u0440\u044c \u0434\u043e\u0431\u0430\u0432\u0438\u043c \u043f\u043e\u043b\u0443\u0447\u0435\u043d\u043d\u044b\u0435 \u043d\u0430\u043c\u0438 \u0434\u0430\u0442\u044b \u043a \u043e\u0441\u043d\u043e\u0432\u043d\u043e\u043c\u0443 \u043d\u0430\u0431\u043e\u0440\u0443: "
     ]
    },
    {
     "cell_type": "code",
     "collapsed": false,
     "input": [
      "SampleAccounts = SampleAccounts.merge(sumtbl, 'left', \n",
      "                                     left_on=['tcs_customer_id','open_date','final_pmt_date','credit_limit','currency'], \n",
      "                                     right_index=True,\n",
      "                                     suffixes=('', '_max'))\n"
     ],
     "language": "python",
     "metadata": {},
     "outputs": [],
     "prompt_number": 9
    },
    {
     "cell_type": "markdown",
     "metadata": {},
     "source": [
      "\u0418\u0442\u0430\u043a, \u0434\u0430\u043b\u0435\u0435 \u043c\u044b \u0440\u0430\u0437\u043e\u0431\u044a\u0435\u043c \u0441\u0442\u043e\u043b\u0431\u044b, \u0432 \u043a\u043e\u0442\u043e\u0440\u044b\u0445 \u043f\u0430\u0440\u0430\u043c\u0435\u0442\u0440\u044b \u0441\u0442\u0440\u043e\u0433\u043e \u043e\u043f\u0440\u0435\u0434\u0435\u043b\u0435\u043d\u044b, \u0442\u0430\u043a\u0438\u043c \u043e\u0431\u0440\u0430\u0437\u043e\u043c, \u0447\u0442\u043e\u0431\u044b \u043a\u0430\u0436\u0434\u043e\u043c\u0443 \u0437\u043d\u0430\u0447\u0435\u043d\u0438\u044e \u0438\u0437 \u044d\u0442\u0438\u0445 \u043f\u043e\u043b\u0435\u0439 \u0441\u043e\u043e\u0442\u0432\u0435\u0442\u0441\u0442\u0432\u043e\u0432\u0430\u043b \u043e\u0442\u0434\u0435\u043b\u044c\u043d\u044b\u0439 \u0441\u0442\u043e\u043b\u0431\u0435\u0446. \u041f\u043e \u0443\u0441\u043b\u043e\u0432\u0438\u044e \u0441\u0442\u043e\u043b\u0431\u0446\u0430\u043c\u0438 \u0441 \u0437\u0430\u0434\u0430\u043d\u043d\u044b\u043c\u0438 \u0437\u043d\u0430\u0447\u0435\u043d\u0438\u044f\u043c\u0438 \u0431\u0443\u0434\u0443\u0442:\n",
      "<ul>\n",
      "<li>pmt_string_84m</li>\n",
      "<li>pmt_freq</li>\n",
      "<li>type</li>\n",
      "<li>status</li>\n",
      "<li>relationship</li>\n",
      "<li>bureau_cd</li>\n",
      "</ul>\n",
      "\u041a\u043e\u0434 \u0434\u043b\u044f \u0438\u0445 \u043f\u0440\u0435\u043e\u0431\u0440\u0430\u0437\u043e\u0432\u0430\u043d\u0438\u044f \u043f\u0440\u0438\u0432\u0435\u0434\u0435\u043d\u0435 \u043d\u0438\u0436\u0435:"
     ]
    },
    {
     "cell_type": "code",
     "collapsed": false,
     "input": [
      "# \u043f\u0440\u0435\u043e\u0431\u0440\u0430\u0437\u0443\u0435\u043c pmt_string_84m\n",
      "vals = list(xrange(10)) + ['A','X']\n",
      "PMTstr = DataFrame([{'pmt_string_84m_%s' % (str(j)): str(i).count(str(j)) for j in vals} for i in SampleAccounts.pmt_string_84m])\n",
      "SampleAccounts = SampleAccounts.join(PMTstr).drop(['pmt_string_84m'], axis=1)\n",
      "\n",
      "# \u043f\u0440\u0435\u043e\u0431\u0440\u0430\u0437\u0443\u0435\u043c pmt_freq\n",
      "SampleAccounts.pmt_freq.fillna(7, inplace=True)\n",
      "SampleAccounts.pmt_freq[SampleAccounts.pmt_freq == 0] = 7\n",
      "vals = list(range(1,8)) + ['A','B']\n",
      "PMTstr = DataFrame([{'pmt_freq_%s' % (str(j)): str(i).count(str(j)) for j in vals} for i in SampleAccounts.pmt_freq])\n",
      "SampleAccounts = SampleAccounts.join(PMTstr).drop(['pmt_freq'], axis=1)\n",
      "\n",
      "# \u043f\u0440\u0435\u043e\u0431\u0440\u0430\u0437\u0443\u0435\u043c type\n",
      "vals = [1,4,6,7,9,10,11,12,13,14,99]\n",
      "PMTstr = DataFrame([{'type_%s' % (str(j)): str(i).count(str(j)) for j in vals} for i in SampleAccounts.type])\n",
      "SampleAccounts = SampleAccounts.join(PMTstr).drop(['type'], axis=1)\n",
      "\n",
      "# \u043f\u0440\u0435\u043e\u0431\u0440\u0430\u0437\u0443\u0435\u043c status\n",
      "vals = [0,12, 13, 14, 21, 52,61]\n",
      "PMTstr = DataFrame([{'status_%s' % (str(j)): str(i).count(str(j)) for j in vals} for i in SampleAccounts.status])\n",
      "SampleAccounts = SampleAccounts.join(PMTstr).drop(['status'], axis=1)\n",
      "\n",
      "# \u043f\u0440\u0435\u043e\u0431\u0440\u0430\u0437\u0443\u0435\u043c relationship\n",
      "vals = [1,2,4,5,9]\n",
      "PMTstr = DataFrame([{'relationship_%s' % (str(j)): str(i).count(str(j)) for j in vals} for i in SampleAccounts.relationship])\n",
      "SampleAccounts = SampleAccounts.join(PMTstr).drop(['relationship'], axis=1)\n",
      "\n",
      "# \u043f\u0440\u0435\u043e\u0431\u0440\u0430\u0437\u0443\u0435\u043c bureau_cd\n",
      "vals = [1,2,3]\n",
      "PMTstr = DataFrame([{'bureau_cd_%s' % (str(j)): str(i).count(str(j)) for j in vals} for i in SampleAccounts.bureau_cd])\n",
      "SampleAccounts = SampleAccounts.join(PMTstr).drop(['bureau_cd'], axis=1)"
     ],
     "language": "python",
     "metadata": {},
     "outputs": [],
     "prompt_number": 10
    },
    {
     "cell_type": "markdown",
     "metadata": {},
     "source": [
      "\u0421\u043b\u0435\u0434\u0443\u044e\u0449\u0438\u043c \u0448\u0430\u0433\u043e\u043c, \u043f\u0440\u0435\u043e\u0431\u0440\u0430\u0437\u0443\u0435\u043c \u043f\u043e\u043b\u0435 'fact_close_date', \u0432 \u043a\u043e\u0442\u043e\u0440\u043e\u043c \u0441\u043e\u0434\u0435\u0440\u0436\u0438\u0442\u0441\u044f \u0434\u0430\u0442\u0430 \u043f\u043e\u0441\u043b\u0435\u0434\u043d\u0435\u0433\u043e \u0444\u0430\u043a\u0442\u0438\u0447\u0435\u0441\u043a\u043e\u0433\u043e \u043f\u043b\u0430\u0442\u0435\u0436\u0430, \u0447\u0442\u043e\u0431\u044b \u0432 \u043d\u0435\u043c \u0441\u043e\u0434\u0435\u0440\u0436\u0430\u043b\u043e\u0441\u044c \u0442\u043e\u043b\u044c\u043a\u043e 2 \u0437\u043d\u0430\u0447\u0435\u043d\u0438\u044f:\n",
      "<ul>\n",
      "<li>0 - \u043d\u0435 \u0431\u044b\u043b\u043e \u043f\u043e\u0441\u043b\u0435\u0434\u043d\u0435\u0433\u043e \u043f\u043b\u0430\u0442\u0435\u0436\u0430</li>\n",
      "<li>1 - \u043f\u043e\u0441\u043b\u0435\u0434\u043d\u0438\u0439 \u043f\u043b\u0430\u0442\u0435\u0436 \u0431\u044b\u043b</li>\n",
      "</ul>\n",
      "\u0414\u0430\u043d\u043d\u0443\u044e \u0437\u0430\u043c\u0435\u043d\u0443 \u044f \u0441\u0434\u0435\u043b\u0430\u043b \u043f\u043e\u0442\u043e\u043c\u0443, \u0447\u0442\u043e \u0438\u0437\u043d\u0430\u0447\u0430\u043b\u044c\u043d\u043e \u043f\u043e\u043b\u0435 \u0431\u044b\u043b\u043e \u0437\u0430\u043f\u043e\u043b\u043d\u0435\u043d\u043e \u043d\u0430\u043f\u043e\u043b\u043e\u0432\u0438\u043d\u0443."
     ]
    },
    {
     "cell_type": "code",
     "collapsed": false,
     "input": [
      "SampleAccounts.fact_close_date[SampleAccounts.fact_close_date.notnull()] = 1\n",
      "SampleAccounts.fact_close_date.fillna(0, inplace=True)"
     ],
     "language": "python",
     "metadata": {},
     "outputs": [],
     "prompt_number": 11
    },
    {
     "cell_type": "markdown",
     "metadata": {},
     "source": [
      "\u0422\u0435\u043f\u0435\u0440\u044c \u0438\u0437 \u043d\u0430\u0448\u0435\u0433\u043e \u043d\u0430\u0431\u043e\u0440\u0430 \u0434\u0430\u043d\u043d\u044b\u0445 \u043d\u0430\u043c \u043d\u0430\u0434\u043e \u0432\u044b\u0442\u0430\u0449\u0438\u0442\u044c \u0441\u0432\u0435\u0436\u0438\u0435 \u0434\u0430\u043d\u043d\u044b\u0435 \u043f\u043e \u0432\u0441\u0435\u043c \u043a\u0440\u0435\u0434\u0438\u0442\u0430\u043c. \u0412 \u044d\u0442\u043e\u043c \u043d\u0430\u043c \u043f\u043e\u043c\u043e\u0436\u0435\u0442 \u043f\u043e\u043b\u0435 'inf_confirm_date_max', \u043f\u043e\u043b\u0443\u0447\u0435\u043d\u043d\u043e\u0435 \u0432\u044b\u0448\u0435. \u0412 \u043d\u0435\u0433\u043e \u043c\u044b \u0434\u043e\u0431\u0430\u0432\u0430\u043b\u0438 \u043a\u0440\u0430\u0439\u043d\u044e\u044e \u0434\u0430\u0442\u0443 \u043e\u0431\u043d\u043e\u0432\u043b\u0435\u043d\u0438\u044f \u0438\u043d\u0444\u043e\u0440\u043c\u0430\u0446\u0438\u0438 \u043f\u043e \u043a\u0440\u0435\u0434\u0438\u0442\u0443 \u0432\u043e \u0432\u0441\u0435\u0445 \u0431\u044e\u0440\u043e:"
     ]
    },
    {
     "cell_type": "code",
     "collapsed": false,
     "input": [
      "PreFinalDS = SampleAccounts[SampleAccounts.inf_confirm_date == SampleAccounts.inf_confirm_date_max].drop_duplicates()"
     ],
     "language": "python",
     "metadata": {},
     "outputs": [],
     "prompt_number": 12
    },
    {
     "cell_type": "markdown",
     "metadata": {},
     "source": [
      "\u041f\u043e\u0441\u043b\u0435 \u0432\u044b\u0448\u0435\u043e\u043f\u0438\u0441\u0430\u043d\u043d\u044b\u0445 \u0434\u0435\u0439\u0441\u0442\u0432\u0438\u0439 \u043d\u0430\u0448\u0430 \u0432\u044b\u0431\u043e\u0440\u043a\u0430 \u0441\u0443\u0449\u0435\u0441\u0442\u0432\u0435\u043d\u043d\u043e \u0441\u043e\u043a\u0440\u0430\u0442\u0438\u043b\u0430\u0441\u044c, \u043d\u043e \u0442\u0435\u043f\u0435\u0440\u044c \u043d\u0430\u043c \u043d\u0430\u0434\u043e \u043e\u0431\u043e\u0431\u0449\u0438\u0442\u044c \u0432\u0441\u044e \u0438\u043d\u0444\u043e\u0440\u043c\u0430\u0446\u0438\u044e \u043f\u043e \u043a\u0440\u0435\u0434\u0438\u0442\u0443 \u0438 \u0437\u0430\u0435\u043c\u0449\u0438\u043a\u0443 \u043f\u043e\u043b\u0443\u0447\u0435\u043d\u043d\u0443\u044e \u0440\u0430\u043d\u0435\u0435. \u0414\u043b\u044f \u044d\u0442\u043e\u0433\u043e \u043f\u0440\u043e\u0438\u0437\u0432\u0435\u0434\u0435\u043c \u0433\u0440\u0443\u043f\u043f\u0438\u0440\u043e\u0432\u043a\u0443 \u043d\u0430\u0448\u0435\u0433\u043e \u043d\u0430\u0431\u043e\u0440\u0430 \u0434\u0430\u043d\u043d\u044b\u0445:"
     ]
    },
    {
     "cell_type": "code",
     "collapsed": false,
     "input": [
      "PreFinalDS = PreFinalDS.groupby(['tcs_customer_id','open_date','final_pmt_date','credit_limit','currency']).max().reset_index()"
     ],
     "language": "python",
     "metadata": {},
     "outputs": [],
     "prompt_number": 13
    },
    {
     "cell_type": "markdown",
     "metadata": {},
     "source": [
      "\u041d\u0430\u0448\u0438 \u0434\u0430\u043d\u043d\u044b\u0435 \u043f\u043e\u0447\u0442\u0438 \u0433\u043e\u0442\u043e\u0432\u044b \u043a \u043d\u0430\u0447\u0430\u043b\u0443 \u0430\u043d\u0430\u043b\u0438\u0437\u0430. \u041e\u0441\u0442\u0430\u043b\u043e\u0441\u044c \u0432\u044b\u043f\u043e\u043b\u043d\u0438\u0442\u044c \u0435\u0449\u0435 \u043d\u0435\u0441\u043a\u043e\u043b\u044c\u043a\u043e \u0434\u0435\u0439\u0441\u0442\u0432\u0438\u0439:\n",
      "<ol>\n",
      "<li>\u0423\u0431\u0440\u0430\u0442\u044c \u043d\u0435 \u043d\u0443\u0436\u043d\u044b\u0435 \u0441\u043e\u043b\u0431\u0446\u044b</li>\n",
      "<li>\u041f\u0440\u0438\u0432\u0435\u0441\u0442\u0438 \u0432\u0441\u0435 \u043a\u0440\u0435\u0434\u0438\u0442\u043d\u044b\u0435 \u043b\u0438\u043c\u0438\u0442\u044b \u0432 \u0440\u0443\u0431\u043b\u0438</li>\n",
      "<li>\u041f\u043e\u0441\u0447\u0438\u0442\u0430\u0442\u044c \u043a\u0430\u043a\u043a\u043e\u0435 \u043a\u043e\u043b\u0438\u0447\u0435\u0441\u0442\u0432\u043e \u043a\u0440\u0435\u0434\u0438\u0442\u043e\u0432 \u0443 \u043a\u0430\u0436\u0434\u043e\u0433\u043e \u0437\u0430\u0435\u043c\u0449\u0438\u043a\u0430 \u043f\u043e \u0438\u043d\u0444\u043e\u0440\u043c\u0430\u0446\u0438\u0438 \u043e\u0442 \u0431\u044e\u0440\u043e</li>\n",
      "</ol>"
     ]
    },
    {
     "cell_type": "markdown",
     "metadata": {},
     "source": [
      "\u041d\u0430\u0447\u043d\u0435\u043c \u0441 \u043e\u0447\u0438\u0441\u0442\u043a\u0438 \u0442\u0430\u0431\u043b\u0438\u0446\u044b \u043e\u0442 \u043d\u0435\u043d\u0443\u0436\u043d\u044b\u0445 \u0441\u0442\u043e\u043b\u0431\u0446\u043e\u0432:"
     ]
    },
    {
     "cell_type": "code",
     "collapsed": false,
     "input": [
      "PreFinalDS = PreFinalDS.drop(['bki_request_date',\n",
      "                              'inf_confirm_date',\n",
      "                              'pmt_string_start',\n",
      "                              'interest_rate',\n",
      "                              'open_date',\n",
      "                              'final_pmt_date',\n",
      "                              'inf_confirm_date_max'], axis=1)"
     ],
     "language": "python",
     "metadata": {},
     "outputs": [],
     "prompt_number": 14
    },
    {
     "cell_type": "markdown",
     "metadata": {},
     "source": [
      "\u0414\u0430\u043b\u0435\u0435 \u043f\u0435\u0440\u0435\u0432\u0435\u0434\u0435\u043c \u0432\u0441\u0435 \u043a\u0440\u0435\u0434\u0438\u0442\u043d\u044b\u0435 \u043b\u0438\u043c\u0438\u0442\u044b \u043a \u0440\u0443\u0431\u043b\u044f\u043c. \u0414\u043b\u044f \u043f\u0440\u043e\u0441\u0442\u043e\u0442\u044b \u044f \u0432\u0437\u044f\u043b \u043a\u0443\u0440\u0441\u044b \u0432\u0430\u043b\u044e\u0442 \u043d\u0430 \u0442\u0435\u043a\u0443\u0449\u0438\u0439 \u043c\u043e\u043c\u0435\u043d\u0442. \u0425\u043e\u0442\u044f \u043f\u0440\u0430\u0432\u0438\u043b\u044c\u043d\u0435\u0435 \u043d\u0430\u0432\u0435\u0440\u043d\u043e\u0435 \u0431\u044b\u043b\u043e \u0431\u044b \u0431\u0440\u0430\u0442\u044c \u043a\u0443\u0440\u0441 \u043d\u0430 \u043c\u043e\u043c\u0435\u043d\u0442 \u043e\u0442\u043a\u0440\u044b\u0442\u0438\u044f \u0441\u0447\u0435\u0442\u0430. \u0415\u0449\u0435 \u043e\u0434\u0438\u043d \u043d\u044c\u044e\u0430\u043d\u0441, \u0432 \u0442\u043e\u043c, \u0447\u0442\u043e \u0434\u043b\u044f \u0430\u043d\u0430\u043b\u0438\u0437\u0430 \u043d\u0430\u043c \u043d\u0430\u0434\u043e \u0443\u0431\u0440\u0430\u0442\u044c \u0442\u0435\u043a\u0441\u0442\u043e\u0432\u043e\u0435 \u043f\u043e\u043b\u0435 '\u0441urrency', \u043f\u043e\u044d\u0442\u043e\u043c\u0443 \u043f\u043e\u0441\u043b\u0435 \u043f\u0435\u0440\u0435\u0432\u043e\u0434\u0430 \u0432\u0430\u043b\u044e\u0442 \u0432 \u0440\u0443\u0431\u043b\u0438 \u043c\u044b \u043f\u0440\u043e\u0432\u0435\u0434\u0435\u043c \u0441 \u044d\u0442\u0438\u043c \u043f\u043e\u043b\u0435\u043c \u043c\u0430\u043d\u0438\u043f\u0443\u043b\u044f\u0446\u0438\u044e, \u043a\u043e\u0442\u043e\u0440\u044b\u0435 \u043c\u044b \u043f\u0440\u043e\u0432\u0435\u043b\u0438 \u0441 \u043f\u043e\u043b\u044f\u043c\u0438 \u0432\u044b\u0448\u0435:"
     ]
    },
    {
     "cell_type": "code",
     "collapsed": false,
     "input": [
      "curs = DataFrame([33.13,44.99,36.49,1], index=['USD','EUR','GHF','RUB'], columns=['crs'])\n",
      "PreFinalDS = PreFinalDS.merge(curs, 'left', left_on='currency', right_index=True)\n",
      "PreFinalDS.credit_limit = PreFinalDS.credit_limit * PreFinalDS.crs\n",
      "\n",
      "#\u0432\u044b\u0434\u0435\u043b\u044f\u0435\u043c \u0437\u043d\u0430\u0447\u0435\u043d\u0438\u044f \u0432 \u043e\u0442\u0434\u0435\u043b\u044c\u043d\u044b\u0435 \u0441\u0442\u043e\u043b\u0431\u0446\u044b\n",
      "vals = ['RUB','USD','EUR','CHF']\n",
      "PMTstr = DataFrame([{'currency_%s' % (str(j)): str(i).count(str(j)) for j in vals} for i in PreFinalDS.currency])\n",
      "PreFinalDS = PreFinalDS.join(PMTstr).drop(['currency','crs'], axis=1)"
     ],
     "language": "python",
     "metadata": {},
     "outputs": [],
     "prompt_number": 15
    },
    {
     "cell_type": "markdown",
     "metadata": {},
     "source": [
      "\u0418\u0442\u0430\u043a \u043f\u0435\u0440\u0435\u0434 \u0437\u0430\u043a\u043b\u044e\u0447\u0438\u0442\u0435\u043b\u044c\u043d\u043e\u0439 \u0433\u0440\u0443\u043f\u043f\u0438\u0440\u043e\u0432\u043a\u043e\u0439 \u0434\u043e\u0431\u0430\u0432\u0438\u043c \u043a \u043d\u0430\u0448\u0435\u043c\u0443 \u043d\u0430\u0431\u043e\u0440\u0443 \u043f\u043e\u043b\u0435 \u0437\u0430\u043f\u043e\u043b\u043d\u0435\u043d\u043d\u043e\u0435 \u0435\u0434\u0438\u043d\u0438\u0446\u0430\u043c\u0438. \u0422.\u0435. \u043a\u043e\u0433\u0434\u0430 \u043c\u044b \u0432\u044b\u043f\u043e\u043b\u043d\u0438\u043c \u043f\u043e\u0441\u043b\u0435\u0434\u043d\u044e\u044e \u0433\u0440\u0443\u043f\u0438\u0440\u043e\u0432\u043a\u0443, \u0441\u0443\u043c\u043c\u0430 \u043f\u043e \u043d\u0435\u043c\u0443 \u0434\u0430\u0441\u0442 \u043a\u043e\u043b\u0438\u0447\u0435\u0441\u0442\u0432\u043e \u043a\u0440\u0435\u0434\u0438\u0442\u043e\u0432 \u0443 \u0437\u0430\u0435\u043c\u0449\u0438\u043a\u0430:"
     ]
    },
    {
     "cell_type": "code",
     "collapsed": false,
     "input": [
      "PreFinalDS['count_credit'] = 1"
     ],
     "language": "python",
     "metadata": {},
     "outputs": [],
     "prompt_number": 16
    },
    {
     "cell_type": "markdown",
     "metadata": {},
     "source": [
      "\u0422\u0435\u043f\u0435\u0440\u044c, \u043a\u043e\u0433\u0434\u0430 \u0443 \u043d\u0430\u0441 \u0432 \u043d\u0430\u0431\u043e\u0440\u0435 \u0434\u0430\u043d\u043d\u044b\u0445 \u0432\u0441\u0435 \u0434\u0430\u043d\u043d\u044b\u0435 \u043a\u043e\u043b\u0438\u0447\u0435\u0441\u0442\u0432\u0435\u043d\u043d\u044b\u0435, \u043c\u043e\u0436\u043d\u043e \u0437\u0430\u043f\u043e\u043b\u043d\u0438\u0442\u044c \u043f\u0440\u043e\u0431\u0435\u043b\u044b \u0432 \u0434\u0430\u043d\u043d\u044b\u0445 0 \u0438 \u0432\u044b\u043f\u043e\u043b\u043d\u0438\u0442\u044c \u0437\u0430\u043a\u043b\u044e\u0447\u0438\u0442\u0435\u043b\u044c\u043d\u0443\u044e \u0433\u0440\u0443\u043f\u043f\u0438\u0440\u043e\u0432\u043a\u0443 \u043f\u043e \u043a\u043b\u0438\u0435\u043d\u0442\u0443:"
     ]
    },
    {
     "cell_type": "code",
     "collapsed": false,
     "input": [
      "PreFinalDS.fillna(0, inplace=True)\n",
      "FinalDF = PreFinalDS.groupby('tcs_customer_id').sum()\n",
      "FinalDF"
     ],
     "language": "python",
     "metadata": {},
     "outputs": [
      {
       "html": [
        "<pre>\n",
        "&lt;class 'pandas.core.frame.DataFrame'&gt;\n",
        "Int64Index: 50000 entries, 1 to 50000\n",
        "Data columns (total 66 columns):\n",
        "credit_limit        50000  non-null values\n",
        "fact_close_date     50000  non-null values\n",
        "outstanding         50000  non-null values\n",
        "next_pmt            50000  non-null values\n",
        "curr_balance_amt    50000  non-null values\n",
        "current_delq        50000  non-null values\n",
        "ttl_delq_5          50000  non-null values\n",
        "ttl_delq_5_29       50000  non-null values\n",
        "ttl_delq_30         50000  non-null values\n",
        "ttl_delq_30_59      50000  non-null values\n",
        "ttl_delq_60_89      50000  non-null values\n",
        "ttl_delq_90_plus    50000  non-null values\n",
        "delq_balance        50000  non-null values\n",
        "max_delq_balance    50000  non-null values\n",
        "pmt_string_84m_0    50000  non-null values\n",
        "pmt_string_84m_1    50000  non-null values\n",
        "pmt_string_84m_2    50000  non-null values\n",
        "pmt_string_84m_3    50000  non-null values\n",
        "pmt_string_84m_4    50000  non-null values\n",
        "pmt_string_84m_5    50000  non-null values\n",
        "pmt_string_84m_6    50000  non-null values\n",
        "pmt_string_84m_7    50000  non-null values\n",
        "pmt_string_84m_8    50000  non-null values\n",
        "pmt_string_84m_9    50000  non-null values\n",
        "pmt_string_84m_A    50000  non-null values\n",
        "pmt_string_84m_X    50000  non-null values\n",
        "pmt_freq_1          50000  non-null values\n",
        "pmt_freq_2          50000  non-null values\n",
        "pmt_freq_3          50000  non-null values\n",
        "pmt_freq_4          50000  non-null values\n",
        "pmt_freq_5          50000  non-null values\n",
        "pmt_freq_6          50000  non-null values\n",
        "pmt_freq_7          50000  non-null values\n",
        "pmt_freq_A          50000  non-null values\n",
        "pmt_freq_B          50000  non-null values\n",
        "type_1              50000  non-null values\n",
        "type_10             50000  non-null values\n",
        "type_11             50000  non-null values\n",
        "type_12             50000  non-null values\n",
        "type_13             50000  non-null values\n",
        "type_14             50000  non-null values\n",
        "type_4              50000  non-null values\n",
        "type_6              50000  non-null values\n",
        "type_7              50000  non-null values\n",
        "type_9              50000  non-null values\n",
        "type_99             50000  non-null values\n",
        "status_0            50000  non-null values\n",
        "status_12           50000  non-null values\n",
        "status_13           50000  non-null values\n",
        "status_14           50000  non-null values\n",
        "status_21           50000  non-null values\n",
        "status_52           50000  non-null values\n",
        "status_61           50000  non-null values\n",
        "relationship_1      50000  non-null values\n",
        "relationship_2      50000  non-null values\n",
        "relationship_4      50000  non-null values\n",
        "relationship_5      50000  non-null values\n",
        "relationship_9      50000  non-null values\n",
        "bureau_cd_1         50000  non-null values\n",
        "bureau_cd_2         50000  non-null values\n",
        "bureau_cd_3         50000  non-null values\n",
        "currency_CHF        50000  non-null values\n",
        "currency_EUR        50000  non-null values\n",
        "currency_RUB        50000  non-null values\n",
        "currency_USD        50000  non-null values\n",
        "count_credit        50000  non-null values\n",
        "dtypes: float64(7), int64(59)\n",
        "</pre>"
       ],
       "metadata": {},
       "output_type": "pyout",
       "prompt_number": 17,
       "text": [
        "<class 'pandas.core.frame.DataFrame'>\n",
        "Int64Index: 50000 entries, 1 to 50000\n",
        "Data columns (total 66 columns):\n",
        "credit_limit        50000  non-null values\n",
        "fact_close_date     50000  non-null values\n",
        "outstanding         50000  non-null values\n",
        "next_pmt            50000  non-null values\n",
        "curr_balance_amt    50000  non-null values\n",
        "current_delq        50000  non-null values\n",
        "ttl_delq_5          50000  non-null values\n",
        "ttl_delq_5_29       50000  non-null values\n",
        "ttl_delq_30         50000  non-null values\n",
        "ttl_delq_30_59      50000  non-null values\n",
        "ttl_delq_60_89      50000  non-null values\n",
        "ttl_delq_90_plus    50000  non-null values\n",
        "delq_balance        50000  non-null values\n",
        "max_delq_balance    50000  non-null values\n",
        "pmt_string_84m_0    50000  non-null values\n",
        "pmt_string_84m_1    50000  non-null values\n",
        "pmt_string_84m_2    50000  non-null values\n",
        "pmt_string_84m_3    50000  non-null values\n",
        "pmt_string_84m_4    50000  non-null values\n",
        "pmt_string_84m_5    50000  non-null values\n",
        "pmt_string_84m_6    50000  non-null values\n",
        "pmt_string_84m_7    50000  non-null values\n",
        "pmt_string_84m_8    50000  non-null values\n",
        "pmt_string_84m_9    50000  non-null values\n",
        "pmt_string_84m_A    50000  non-null values\n",
        "pmt_string_84m_X    50000  non-null values\n",
        "pmt_freq_1          50000  non-null values\n",
        "pmt_freq_2          50000  non-null values\n",
        "pmt_freq_3          50000  non-null values\n",
        "pmt_freq_4          50000  non-null values\n",
        "pmt_freq_5          50000  non-null values\n",
        "pmt_freq_6          50000  non-null values\n",
        "pmt_freq_7          50000  non-null values\n",
        "pmt_freq_A          50000  non-null values\n",
        "pmt_freq_B          50000  non-null values\n",
        "type_1              50000  non-null values\n",
        "type_10             50000  non-null values\n",
        "type_11             50000  non-null values\n",
        "type_12             50000  non-null values\n",
        "type_13             50000  non-null values\n",
        "type_14             50000  non-null values\n",
        "type_4              50000  non-null values\n",
        "type_6              50000  non-null values\n",
        "type_7              50000  non-null values\n",
        "type_9              50000  non-null values\n",
        "type_99             50000  non-null values\n",
        "status_0            50000  non-null values\n",
        "status_12           50000  non-null values\n",
        "status_13           50000  non-null values\n",
        "status_14           50000  non-null values\n",
        "status_21           50000  non-null values\n",
        "status_52           50000  non-null values\n",
        "status_61           50000  non-null values\n",
        "relationship_1      50000  non-null values\n",
        "relationship_2      50000  non-null values\n",
        "relationship_4      50000  non-null values\n",
        "relationship_5      50000  non-null values\n",
        "relationship_9      50000  non-null values\n",
        "bureau_cd_1         50000  non-null values\n",
        "bureau_cd_2         50000  non-null values\n",
        "bureau_cd_3         50000  non-null values\n",
        "currency_CHF        50000  non-null values\n",
        "currency_EUR        50000  non-null values\n",
        "currency_RUB        50000  non-null values\n",
        "currency_USD        50000  non-null values\n",
        "count_credit        50000  non-null values\n",
        "dtypes: float64(7), int64(59)"
       ]
      }
     ],
     "prompt_number": 17
    },
    {
     "cell_type": "heading",
     "level": 4,
     "metadata": {},
     "source": [
      "\u041f\u0440\u0435\u0434\u0432\u0430\u0440\u0438\u0442\u0435\u043b\u044c\u043d\u044b\u0439 \u0430\u043d\u0430\u043b\u0438\u0437"
     ]
    },
    {
     "cell_type": "markdown",
     "metadata": {},
     "source": [
      "\u041d\u0443 \u0447\u0442\u043e \u0436\u0435 \u043f\u0435\u0440\u0432\u0438\u0447\u043d\u0430\u044f \u043e\u0431\u0440\u0430\u0431\u043e\u0442\u043a\u0430 \u0434\u0430\u043d\u043d\u044b\u0445 \u0437\u0430\u0432\u0435\u0440\u0448\u0435\u043d\u0430 \u0438 \u043c\u043e\u0436\u043d\u043e \u043f\u0440\u0438\u0441\u0442\u0443\u043f\u0438\u0442\u044c \u043a \u0438\u0445 \u0430\u043d\u0430\u043b\u0438\u0437\u0443. \u0414\u043b\u044f \u043d\u0430\u0447\u0430\u043b\u0430 \u0440\u0430\u0437\u0434\u0435\u043b\u0438\u043c \u043d\u0430\u0448\u0438 \u0434\u0430\u043d\u043d\u044b\u0435 \u043d\u0430 \u043e\u0431\u0443\u0447\u0430\u044e\u0449\u0443\u044e \u0438 \u0442\u0435\u0441\u0442\u043e\u0432\u0443\u044e \u0432\u044b\u0431\u043e\u0440\u043a\u0438. \u0412 \u044d\u0442\u043e\u043c \u043d\u0430\u043c \u043f\u043e\u043c\u043e\u0436\u0435\u0442 \u0441\u0442\u043e\u043b\u0431\u0435\u0446 \"sample_type\" \u0438\u0437 SampleCustomers, \u043f\u043e \u043d\u0435\u043c\u0443 \u043a\u0430\u043a \u0440\u0430\u0437 \u0441\u0434\u0435\u043b\u0430\u043d\u043e \u0442\u0430\u043a\u043e\u0435 \u0440\u0430\u0437\u0434\u0435\u043b\u0435\u043d\u0438\u0435."
     ]
    },
    {
     "cell_type": "markdown",
     "metadata": {},
     "source": [
      "\u0414\u043b\u044f \u0442\u043e\u0433\u043e \u0447\u0442\u043e\u0431\u044b \u0440\u0430\u0437\u0431\u0438\u0442\u044c \u043d\u0430\u0448 \u043e\u0431\u0440\u0430\u0431\u043e\u0442\u0430\u043d\u043d\u044b\u0439 DataFrame, \u0434\u043e\u0441\u0442\u0430\u0442\u043e\u0447\u043d\u043e \u043e\u0431\u044a\u0435\u0434\u0435\u043d\u0438\u0442\u044c \u0435\u0433\u043e \u0441 SampleCustomers \u043f\u043e\u0438\u0433\u0440\u0430\u0442\u044c\u0441\u044f \u0444\u0438\u043b\u044c\u0442\u0440\u0430\u043c\u0438:"
     ]
    },
    {
     "cell_type": "code",
     "collapsed": false,
     "input": [
      "SampleCustomers.set_index('tcs_customer_id', inplace=True)\n",
      "UnionDF = FinalDF.join(SampleCustomers)\n",
      "trainDF = UnionDF[UnionDF.sample_type == 'train'].drop(['sample_type'], axis=1)\n",
      "testDF = UnionDF[UnionDF.sample_type == 'test'].drop(['sample_type'], axis=1)"
     ],
     "language": "python",
     "metadata": {},
     "outputs": [],
     "prompt_number": 18
    },
    {
     "cell_type": "markdown",
     "metadata": {},
     "source": [
      "\u0414\u0430\u043b\u0435\u0435 \u0434\u0430\u0432\u0430\u0439\u0442\u0435 \u043f\u043e\u0441\u043c\u043e\u0442\u0440\u0438\u043c, \u043a\u0430\u043a \u043f\u0440\u0438\u0437\u043d\u0430\u043a\u0438 \u043a\u043e\u0440\u0440\u0435\u043b\u0438\u0440\u0443\u0431\u0442 \u043c\u0435\u0436\u0434\u0443 \u0441\u043e\u0431\u043e\u0439, \u0434\u043b\u044f \u044d\u0442\u043e\u0433\u043e \u043f\u043e\u0441\u0442\u0440\u043e\u0438\u043c \u043c\u0430\u0442\u0440\u0438\u0446\u0443 \u0441 \u043a\u043e\u044d\u0444\u0444\u0438\u0446\u0438\u0435\u043d\u0442\u0430\u043c\u0438 \u043a\u043e\u0440\u0440\u0435\u043b\u044f\u0446\u0438\u0438 \u043f\u0440\u0438\u0437\u043d\u0430\u043a\u043e\u0432. \u0421 \u043f\u043e\u043c\u043e\u0449\u044c\u044e pandas \u044d\u0442\u043e \u043c\u043e\u0436\u043d\u043e \u0441\u0434\u0435\u043b\u0430\u0442\u044c \u043e\u0434\u043d\u043e\u0439 \u043a\u043e\u043c\u0430\u043d\u0434\u043e\u0439:"
     ]
    },
    {
     "cell_type": "code",
     "collapsed": false,
     "input": [
      "CorrKoef = trainDF.corr()\n",
      "CorrKoef"
     ],
     "language": "python",
     "metadata": {},
     "outputs": [
      {
       "html": [
        "<pre>\n",
        "&lt;class 'pandas.core.frame.DataFrame'&gt;\n",
        "Index: 67 entries, credit_limit to bad\n",
        "Data columns (total 67 columns):\n",
        "credit_limit        61  non-null values\n",
        "fact_close_date     61  non-null values\n",
        "outstanding         61  non-null values\n",
        "next_pmt            61  non-null values\n",
        "curr_balance_amt    61  non-null values\n",
        "current_delq        61  non-null values\n",
        "ttl_delq_5          61  non-null values\n",
        "ttl_delq_5_29       61  non-null values\n",
        "ttl_delq_30         61  non-null values\n",
        "ttl_delq_30_59      61  non-null values\n",
        "ttl_delq_60_89      61  non-null values\n",
        "ttl_delq_90_plus    61  non-null values\n",
        "delq_balance        61  non-null values\n",
        "max_delq_balance    61  non-null values\n",
        "pmt_string_84m_0    61  non-null values\n",
        "pmt_string_84m_1    61  non-null values\n",
        "pmt_string_84m_2    61  non-null values\n",
        "pmt_string_84m_3    61  non-null values\n",
        "pmt_string_84m_4    61  non-null values\n",
        "pmt_string_84m_5    61  non-null values\n",
        "pmt_string_84m_6    0  non-null values\n",
        "pmt_string_84m_7    61  non-null values\n",
        "pmt_string_84m_8    0  non-null values\n",
        "pmt_string_84m_9    61  non-null values\n",
        "pmt_string_84m_A    61  non-null values\n",
        "pmt_string_84m_X    61  non-null values\n",
        "pmt_freq_1          61  non-null values\n",
        "pmt_freq_2          61  non-null values\n",
        "pmt_freq_3          61  non-null values\n",
        "pmt_freq_4          61  non-null values\n",
        "pmt_freq_5          0  non-null values\n",
        "pmt_freq_6          61  non-null values\n",
        "pmt_freq_7          61  non-null values\n",
        "pmt_freq_A          0  non-null values\n",
        "pmt_freq_B          0  non-null values\n",
        "type_1              61  non-null values\n",
        "type_10             61  non-null values\n",
        "type_11             61  non-null values\n",
        "type_12             61  non-null values\n",
        "type_13             61  non-null values\n",
        "type_14             61  non-null values\n",
        "type_4              61  non-null values\n",
        "type_6              61  non-null values\n",
        "type_7              61  non-null values\n",
        "type_9              61  non-null values\n",
        "type_99             61  non-null values\n",
        "status_0            61  non-null values\n",
        "status_12           0  non-null values\n",
        "status_13           61  non-null values\n",
        "status_14           61  non-null values\n",
        "status_21           61  non-null values\n",
        "status_52           61  non-null values\n",
        "status_61           61  non-null values\n",
        "relationship_1      61  non-null values\n",
        "relationship_2      61  non-null values\n",
        "relationship_4      61  non-null values\n",
        "relationship_5      61  non-null values\n",
        "relationship_9      61  non-null values\n",
        "bureau_cd_1         61  non-null values\n",
        "bureau_cd_2         61  non-null values\n",
        "bureau_cd_3         61  non-null values\n",
        "currency_CHF        61  non-null values\n",
        "currency_EUR        61  non-null values\n",
        "currency_RUB        61  non-null values\n",
        "currency_USD        61  non-null values\n",
        "count_credit        61  non-null values\n",
        "bad                 61  non-null values\n",
        "dtypes: float64(67)\n",
        "</pre>"
       ],
       "metadata": {},
       "output_type": "pyout",
       "prompt_number": 19,
       "text": [
        "<class 'pandas.core.frame.DataFrame'>\n",
        "Index: 67 entries, credit_limit to bad\n",
        "Data columns (total 67 columns):\n",
        "credit_limit        61  non-null values\n",
        "fact_close_date     61  non-null values\n",
        "outstanding         61  non-null values\n",
        "next_pmt            61  non-null values\n",
        "curr_balance_amt    61  non-null values\n",
        "current_delq        61  non-null values\n",
        "ttl_delq_5          61  non-null values\n",
        "ttl_delq_5_29       61  non-null values\n",
        "ttl_delq_30         61  non-null values\n",
        "ttl_delq_30_59      61  non-null values\n",
        "ttl_delq_60_89      61  non-null values\n",
        "ttl_delq_90_plus    61  non-null values\n",
        "delq_balance        61  non-null values\n",
        "max_delq_balance    61  non-null values\n",
        "pmt_string_84m_0    61  non-null values\n",
        "pmt_string_84m_1    61  non-null values\n",
        "pmt_string_84m_2    61  non-null values\n",
        "pmt_string_84m_3    61  non-null values\n",
        "pmt_string_84m_4    61  non-null values\n",
        "pmt_string_84m_5    61  non-null values\n",
        "pmt_string_84m_6    0  non-null values\n",
        "pmt_string_84m_7    61  non-null values\n",
        "pmt_string_84m_8    0  non-null values\n",
        "pmt_string_84m_9    61  non-null values\n",
        "pmt_string_84m_A    61  non-null values\n",
        "pmt_string_84m_X    61  non-null values\n",
        "pmt_freq_1          61  non-null values\n",
        "pmt_freq_2          61  non-null values\n",
        "pmt_freq_3          61  non-null values\n",
        "pmt_freq_4          61  non-null values\n",
        "pmt_freq_5          0  non-null values\n",
        "pmt_freq_6          61  non-null values\n",
        "pmt_freq_7          61  non-null values\n",
        "pmt_freq_A          0  non-null values\n",
        "pmt_freq_B          0  non-null values\n",
        "type_1              61  non-null values\n",
        "type_10             61  non-null values\n",
        "type_11             61  non-null values\n",
        "type_12             61  non-null values\n",
        "type_13             61  non-null values\n",
        "type_14             61  non-null values\n",
        "type_4              61  non-null values\n",
        "type_6              61  non-null values\n",
        "type_7              61  non-null values\n",
        "type_9              61  non-null values\n",
        "type_99             61  non-null values\n",
        "status_0            61  non-null values\n",
        "status_12           0  non-null values\n",
        "status_13           61  non-null values\n",
        "status_14           61  non-null values\n",
        "status_21           61  non-null values\n",
        "status_52           61  non-null values\n",
        "status_61           61  non-null values\n",
        "relationship_1      61  non-null values\n",
        "relationship_2      61  non-null values\n",
        "relationship_4      61  non-null values\n",
        "relationship_5      61  non-null values\n",
        "relationship_9      61  non-null values\n",
        "bureau_cd_1         61  non-null values\n",
        "bureau_cd_2         61  non-null values\n",
        "bureau_cd_3         61  non-null values\n",
        "currency_CHF        61  non-null values\n",
        "currency_EUR        61  non-null values\n",
        "currency_RUB        61  non-null values\n",
        "currency_USD        61  non-null values\n",
        "count_credit        61  non-null values\n",
        "bad                 61  non-null values\n",
        "dtypes: float64(67)"
       ]
      }
     ],
     "prompt_number": 19
    },
    {
     "cell_type": "markdown",
     "metadata": {},
     "source": [
      "\u041a\u0430\u043a \u0432\u0438\u0434\u043d\u043e \u0438\u0437 \u043e\u0431\u0449\u0435\u0433\u043e \u043e\u043f\u0438\u0441\u0430\u043d\u0438\u044f \u043c\u0430\u0442\u0440\u0438\u0446\u044b, \u0435\u0441\u0442\u044c \u043f\u043e\u043b\u044f \u0443 \u043a\u043e\u0442\u043e\u0440\u044b\u0445 \u043d\u0435\u0442 \u043a\u043e\u044d\u0444\u0444\u0438\u0446\u0438\u0435\u043d\u0442\u0430 \u043a\u043e\u0440\u0440\u0435\u043b\u044f\u0446\u0438\u0438. \u042d\u0442\u043e \u0437\u043d\u0430\u0447\u0438\u0442, \u0447\u0442\u043e \u0432 \u0434\u0430\u043d\u043d\u044b\u0435 \u043f\u043e\u043b\u044f \u0441\u043a\u043e\u0440\u0435\u0435 \u0432\u0441\u0435\u0433\u043e \u0437\u0430\u043f\u043e\u043b\u043d\u0435\u043d\u044b \u0442\u043e\u043b\u044c\u043a\u043e \u043e\u0434\u043d\u0438\u043c \u043e\u0434\u0438\u043d\u0430\u043a\u043e\u0432\u044b\u043c \u0437\u043d\u0430\u0447\u0435\u043d\u0438\u0435\u043c \u0438 \u0438\u0445 \u043c\u043e\u0436\u043d\u043e \u043e\u043f\u0443\u0441\u0442\u0438\u0442\u0438\u0442\u044c \u043f\u0440\u0438 \u0430\u043d\u0430\u043b\u0438\u0437\u0435. \u041f\u043e\u043b\u0443\u0447\u0438\u043c \u0438\u0445 \u0441\u043f\u0438\u0441\u043e\u043a:"
     ]
    },
    {
     "cell_type": "code",
     "collapsed": false,
     "input": [
      "FieldDrop = [i for i in CorrKoef if CorrKoef[i].isnull().drop_duplicates().values[0]]\n",
      "FieldDrop"
     ],
     "language": "python",
     "metadata": {},
     "outputs": [
      {
       "metadata": {},
       "output_type": "pyout",
       "prompt_number": 20,
       "text": [
        "['pmt_string_84m_6',\n",
        " 'pmt_string_84m_8',\n",
        " 'pmt_freq_5',\n",
        " 'pmt_freq_A',\n",
        " 'pmt_freq_B',\n",
        " 'status_12']"
       ]
      }
     ],
     "prompt_number": 20
    },
    {
     "cell_type": "markdown",
     "metadata": {},
     "source": [
      "\u0421\u043b\u0435\u0434\u0443\u044e\u0449\u0438\u043c \u0448\u0430\u0433\u043e\u043c \u043c\u044b \u043d\u0430\u0439\u0434\u0435\u043c \u043f\u043e\u043b\u044f \u043a\u043e\u0442\u043e\u0440\u044b\u0435 \u043a\u043e\u0440\u0440\u0435\u043b\u0438\u0440\u0443\u044e\u0442 \u043c\u0435\u0436\u0434\u0443 \u0441\u043e\u0431\u043e\u0439, \u0438\u0441\u043f\u043e\u043b\u044c\u0437\u0443\u044f \u043d\u0430\u0448\u0443 \u043c\u0430\u0442\u0440\u0438\u0446\u0443:"
     ]
    },
    {
     "cell_type": "code",
     "collapsed": false,
     "input": [
      "CorField = []\n",
      "for i in CorrKoef:\n",
      "    for j in CorrKoef.index[CorrKoef[i] > 0.9]:\n",
      "        if i <> j and j not in CorField and i not in CorField:\n",
      "            CorField.append(j)\n",
      "            print \"%s-->%s: r^2=%f\" % (i,j, CorrKoef[i][CorrKoef.index==j].values[0])"
     ],
     "language": "python",
     "metadata": {},
     "outputs": [
      {
       "output_type": "stream",
       "stream": "stdout",
       "text": [
        "fact_close_date-->status_13: r^2=0.997362\n",
        "ttl_delq_5_29-->ttl_delq_30: r^2=0.954740\n",
        "ttl_delq_5_29-->pmt_string_84m_A: r^2=0.925870\n",
        "ttl_delq_30_59-->pmt_string_84m_2: r^2=0.903337\n",
        "ttl_delq_90_plus-->pmt_string_84m_5: r^2=0.978239\n",
        "delq_balance-->max_delq_balance: r^2=0.986967\n",
        "pmt_freq_3-->relationship_1: r^2=0.909820\n",
        "pmt_freq_3-->currency_RUB: r^2=0.910620\n",
        "pmt_freq_3-->count_credit: r^2=0.911109\n"
       ]
      }
     ],
     "prompt_number": 21
    },
    {
     "cell_type": "markdown",
     "metadata": {},
     "source": [
      "\u0418\u0442\u0430\u043a, \u0438\u0441\u0445\u043e\u0434\u044f \u0438\u0437 \u0441\u0432\u044f\u0437\u0435\u0439 \u043a\u043e\u0442\u043e\u0440\u044b\u0435 \u043c\u044b \u043f\u043e\u043b\u0443\u0447\u0438\u043b\u0438 \u043d\u0430 \u043f\u0440\u0435\u0434\u044b\u0434\u0443\u0449\u0435\u043c \u0448\u0430\u0433\u0435, \u043c\u044b \u043c\u043e\u0436\u0435\u043c \u0434\u043e\u0431\u0430\u0432\u0438\u0442\u044c \u0432 \u0441\u043f\u0438\u0441\u043e\u043a \u0443\u0434\u0430\u043b\u0435\u043d\u0438\u044f \u0441\u043b\u0435\u0434\u0443\u044e\u0449\u0438\u0435 \u043f\u043e\u043b\u044f:"
     ]
    },
    {
     "cell_type": "code",
     "collapsed": false,
     "input": [
      "FieldDrop =FieldDrop + ['fact_close_date','ttl_delq_30',\n",
      "                        'pmt_string_84m_5',\n",
      "                        'pmt_string_84m_A',\n",
      "                        'pmt_string_84m_A',\n",
      "                        'max_delq_balance',\n",
      "                        'relationship_1',\n",
      "                        'currency_RUB',\n",
      "                        'count_credit']\n",
      "newtr = trainDF.drop(FieldDrop, axis=1)"
     ],
     "language": "python",
     "metadata": {},
     "outputs": [],
     "prompt_number": 22
    },
    {
     "cell_type": "heading",
     "level": 4,
     "metadata": {},
     "source": [
      "\u041f\u043e\u0441\u0442\u0440\u043e\u0435\u043d\u0438\u0435 \u0438 \u0432\u044b\u0431\u043e\u0440 \u043c\u043e\u0434\u0435\u043b\u0438"
     ]
    },
    {
     "cell_type": "markdown",
     "metadata": {},
     "source": [
      "\u041d\u0443 \u0447\u0442\u043e \u0436\u0435 \u043f\u0435\u0440\u0432\u0438\u0447\u043d\u044b\u0435 \u0434\u0430\u043d\u043d\u044b\u0435 \u043e\u0431\u0440\u0430\u0431\u043e\u0442\u0430\u043d\u044b \u0438 \u0442\u0435\u043f\u0435\u0440\u0435 \u043c\u043e\u0436\u043d\u043e \u043f\u0435\u0440\u0435\u0439\u0442\u0438 \u043a \u043f\u043e\u0441\u0442\u0440\u043e\u0435\u043d\u0438\u044e \u043c\u043e\u0434\u0435\u043b\u0438."
     ]
    },
    {
     "cell_type": "markdown",
     "metadata": {},
     "source": [
      "\u041e\u0442\u0434\u0435\u043b\u0438\u043c \u043f\u0440\u0438\u0437\u043d\u0430\u043a \u043a\u043b\u0430\u0441\u0441\u0430 \u043e\u0442 \u043e\u0431\u0443\u0447\u0430\u044e\u0449\u0435\u0439 \u0432\u044b\u0431\u043e\u0440\u043a\u0438:"
     ]
    },
    {
     "cell_type": "code",
     "collapsed": false,
     "input": [
      "target = newtr.bad.values\n",
      "train = newtr.drop('bad', axis=1).values"
     ],
     "language": "python",
     "metadata": {},
     "outputs": [],
     "prompt_number": 23
    },
    {
     "cell_type": "markdown",
     "metadata": {},
     "source": [
      "\u0422\u0435\u043f\u0435\u0440\u044c \u0434\u0430\u0432\u0430\u0439\u0442\u0435 \u0443\u043c\u0435\u043d\u044c\u0448\u0438\u043c \u0440\u0430\u0437\u043c\u0435\u0440\u043d\u043e\u0441\u0442\u044c \u043d\u0430\u0448\u0435\u0439 \u0432\u044b\u0431\u043e\u0440\u043a\u0438, \u0434\u0430\u0431\u044b \u0432\u0437\u044f\u0442\u044c \u0442\u043e\u043b\u044c\u043a\u043e \u0437\u043d\u0430\u0447\u0435\u043c\u044b\u0435 \u043f\u0430\u0440\u0430\u043c\u0435\u0442\u0440\u044b. \u0414\u043b\u044f \u044d\u0442\u043e\u0433\u043e \u0432\u043e\u0441\u043f\u043e\u043b\u044c\u0437\u0443\u0435\u043c\u0441\u044f <a href=\"http://www.machinelearning.ru/wiki/index.php?title=%D0%9C%D0%B5%D1%82%D0%BE%D0%B4_%D0%B3%D0%BB%D0%B0%D0%B2%D0%BD%D1%8B%D1%85_%D0%BA%D0%BE%D0%BC%D0%BF%D0%BE%D0%BD%D0%B5%D0%BD%D1%82\">\u043c\u0435\u0442\u043e\u0434\u043e\u043c \u0433\u043b\u0430\u0432\u043d\u044b\u0445 \u043a\u043e\u043c\u043f\u043e\u043d\u0435\u043d\u0442</a> \u0438 \u0435\u0433\u043e \u0440\u0435\u0430\u043b\u0438\u0437\u0430\u0446\u0438\u0435\u0439 <a href=\"http://scikit-learn.org/stable/modules/generated/sklearn.decomposition.PCA.html#sklearn.decomposition.PCA\">PCA()</a> \u0432 \u043c\u043e\u0434\u0443\u043b\u0435 <i>sklearn</i>. \u0412 \u043f\u0430\u0440\u0430\u043c\u0435\u0442\u0440\u0435 \u043c\u044b \u043f\u0435\u0440\u0435\u0434\u0430\u0435\u043c \u043a\u043e\u043b\u0438\u0447\u0435\u0441\u0442\u0432\u043e \u043a\u043e\u043d\u043f\u043e\u043d\u0435\u043d\u0442, \u043a\u043e\u0442\u043e\u0440\u044b\u0435 \u043c\u044b \u0445\u043e\u0442\u0438\u043c \u0441\u043e\u0445\u0440\u0430\u043d\u0438\u0442\u044c(\u044f \u0432\u044b\u0431\u0440\u0430\u043b 20, \u0442.\u043a. \u043f\u0440\u0438 \u043d\u0438\u0445 \u0440\u0435\u0437\u0443\u043b\u044c\u0442\u0430\u0442\u044b \u043c\u043e\u0434\u0435\u043b\u0435\u0439 \u043f\u0440\u0430\u043a\u0442\u0438\u0447\u0435\u0441\u043a\u0438 \u043d\u0435 \u043e\u0442\u043b\u0438\u0447\u0430\u043b\u0438\u0441\u044c \u043e\u0442 \u0440\u0435\u0437\u0443\u043b\u044c\u0442\u0430\u0442\u043e\u0432 \u043f\u043e \u0438\u0441\u0445\u043e\u0434\u043d\u044b\u043c \u0434\u0430\u043d\u043d\u044b\u043c)"
     ]
    },
    {
     "cell_type": "code",
     "collapsed": false,
     "input": [
      "coder = PCA(n_components=20)\n",
      "train = coder.fit_transform(train)"
     ],
     "language": "python",
     "metadata": {},
     "outputs": [],
     "prompt_number": 24
    },
    {
     "cell_type": "markdown",
     "metadata": {},
     "source": [
      "\u041f\u0440\u0438\u0448\u043b\u043e \u0432\u0440\u0435\u043c\u044f \u0434\u043b\u044f \u043e\u043f\u0440\u0435\u0434\u0435\u043b\u0435\u043d\u0438\u044f \u043c\u043e\u0434\u0435\u043b\u0435\u0439 \u043a\u043b\u0430\u0441\u0441\u0438\u0444\u0438\u043a\u0430\u0446\u0438\u0438. \u0412\u043e\u0437\u044c\u043c\u0435\u043c \u043d\u0435\u0441\u043a\u043e\u043b\u044c\u043a\u043e \u0440\u0430\u0437\u043b\u0438\u0447\u043d\u044b\u0445 \u0430\u043b\u0433\u043e\u0440\u0438\u0442\u043c\u043e\u0432 \u0438 \u0441\u0440\u0430\u0432\u043d\u0438\u043c \u0440\u0435\u0437\u0443\u043b\u044c\u0442\u0430\u0442\u044b \u0438\u0445 \u0440\u0430\u0431\u043e\u0442\u044b \u043f\u0440\u0438 \u043f\u043e\u043f\u043c\u043e\u0449\u0438 \u0445\u0430\u0440\u0430\u043a\u0442\u0435\u0440\u0438\u0441\u0442\u0438\u043a\u0438 <a href=\"http://ru.wikipedia.org/wiki/ROC-%D0%BA%D1%80%D0%B8%D0%B2%D0%B0%D1%8F\">Area Under ROC Curve</a> (<b>auc</b>). \u0414\u043b\u0434\u044f \u043c\u043e\u0434\u0435\u043b\u0438\u0440\u043e\u0432\u0430\u043d\u0438\u044f \u0431\u0443\u0434\u0443\u0442 \u0440\u0430\u0441\u0441\u043c\u043e\u0442\u0440\u0435\u043d\u044b \u0441\u043b\u0435\u0434\u0443\u044e\u0449\u0438\u0435 \u0430\u043b\u0433\u043e\u0440\u0438\u0442\u043c\u044b:\n",
      "<ul>\n",
      "<li><a href=\"http://ru.wikipedia.org/wiki/Random_forest\">\u0421\u043b\u0443\u0447\u0430\u0439\u043d\u044b\u0439 \u043b\u0435\u0441</a></li>\n",
      "<li><a href=\"http://en.wikipedia.org/wiki/Gradient_boosting\">\u0413\u0440\u0430\u0434\u0438\u0435\u043d\u0442\u043d\u044b\u0439 \u0431\u0443\u0441\u0442\u0438\u043d\u0433</a></li>\n",
      "<li><a href=\"http://www.machinelearning.ru/wiki/index.php?title=KNN\">\u041c\u0435\u0442\u043e\u0434 \u0431\u043b\u0438\u0436\u0430\u0439\u0448\u0438\u0445 \u0441\u043e\u0441\u0435\u0434\u0435\u0439</a></li>\n",
      "<li><a href=\"http://ru.wikipedia.org/wiki/%D0%9D%D0%B0%D0%B8%D0%B2%D0%BD%D1%8B%D0%B9_%D0%B1%D0%B0%D0%B9%D0%B5%D1%81%D0%BE%D0%B2%D1%81%D0%BA%D0%B8%D0%B9_%D0%BA%D0%BB%D0%B0%D1%81%D1%81%D0%B8%D1%84%D0%B8%D0%BA%D0%B0%D1%82%D0%BE%D1%80\">\"\u041d\u0430\u0438\u0432\u043d\u044b\u0439\" \u0431\u0430\u0439\u0435\u0441\u043e\u0432\u0441\u043a\u0438\u0439 \u043a\u043b\u0430\u0441\u0441\u0438\u0444\u0438\u043a\u0430\u0442\u043e\u0440</a></li>\n",
      "</ul>"
     ]
    },
    {
     "cell_type": "code",
     "collapsed": false,
     "input": [
      "models = []\n",
      "models.append(RandomForestClassifier(n_estimators=165, max_depth=4, criterion='entropy'))\n",
      "models.append(GradientBoostingClassifier(max_depth =4))\n",
      "models.append(KNeighborsClassifier(n_neighbors=20))\n",
      "models.append(GaussianNB())"
     ],
     "language": "python",
     "metadata": {},
     "outputs": [],
     "prompt_number": 25
    },
    {
     "cell_type": "markdown",
     "metadata": {},
     "source": [
      "\u0418\u0442\u0430\u043a \u043c\u043e\u0434\u0435\u043b\u0438 \u0432\u044b\u0431\u0440\u0430\u043d\u044b. \u0414\u0430\u0432\u0430\u0439\u0442\u0435 \u0441\u0435\u0439\u0447\u0430\u0441 \u0440\u0430\u0437\u043e\u0431\u044a\u0435\u043c \u043d\u0430\u0448\u0443 \u043e\u0431\u0443\u0447\u0430\u044e\u0449\u0443\u044e \u0432\u044b\u0431\u043e\u0440\u043a\u0443 \u043d\u0430 2 \u043f\u043e\u0434\u0432\u044b\u0431\u043e\u0440\u043a\u0438: \u0442\u0435\u0441\u0442\u043e\u0432\u0443\u044e \u0438 \u043e\u0431\u0443\u0447\u0430\u044e\u0449\u0443\u044e. \u0414\u0430\u043d\u043d\u043e\u0435 \u0434\u0435\u0439\u0441\u0442\u0432\u0438\u0435 \u043d\u0443\u0436\u043d\u043e \u0447\u0442\u043e\u0431\u044b \u043c\u044b \u043c\u043e\u0433\u043b\u0438 \u043f\u043e\u0447\u0441\u0438\u0442\u0430\u0442\u044c \u0445\u0430\u0440\u0430\u043a\u0442\u0435\u0440\u0438\u0441\u0442\u0438\u043a\u0443 auc \u0434\u043b\u044f \u043d\u0430\u0448\u0438\u0445 \u043c\u043e\u0434\u0435\u043b\u0435\u0439. \u0420\u0430\u0437\u0431\u0438\u0435\u043d\u0438\u0435 \u043c\u043e\u0436\u043d\u043e \u043f\u0440\u043e\u0432\u0435\u0441\u0442\u0438 \u0444\u0443\u043d\u043a\u0446\u0438\u0435\u0439 <a href=\"http://scikit-learn.org/stable/modules/generated/sklearn.cross_validation.train_test_split.html\">train_test_split()</a> \u0438\u0437 \u043c\u043e\u0434\u0443\u043b\u044f <i>sklearn</i>:"
     ]
    },
    {
     "cell_type": "code",
     "collapsed": false,
     "input": [
      "TRNtrain, TRNtest, TARtrain, TARtest = train_test_split(train, target, test_size=0.3, random_state=0)"
     ],
     "language": "python",
     "metadata": {},
     "outputs": [],
     "prompt_number": 55
    },
    {
     "cell_type": "markdown",
     "metadata": {},
     "source": [
      "\u041e\u0441\u0442\u0430\u043b\u043e\u0441\u044c \u043e\u0441\u0442\u0430\u043b\u043e\u0441\u044c \u043e\u0431\u0443\u0447\u0438\u0442\u044c \u043d\u0430\u0448\u0438 \u043c\u043e\u0434\u0435\u043b\u0438 \u0438 \u043e\u0446\u0435\u043d\u0438\u0442\u044c \u0440\u0435\u0437\u0443\u043b\u044c\u0442\u0430\u0442."
     ]
    },
    {
     "cell_type": "markdown",
     "metadata": {},
     "source": [
      "\u0414\u043b\u044f \u0440\u0430\u0441\u0447\u0435\u0442\u0430 \u0445\u0430\u0440\u0430\u043a\u0442\u0435\u0440\u0438\u0441\u0442\u0438\u043a\u0438 <b>auc</b> \u0435\u0441\u0442\u044c 2 \u043f\u0443\u0442\u0438:\n",
      "<ol>\n",
      "<li>\u0421\u0442\u0430\u043d\u0434\u0430\u0440\u0442\u043d\u044b\u043c\u0438 \u0441\u0440\u0435\u0434\u0441\u0442\u0432\u0430\u043c\u0438 \u043c\u043e\u0434\u0443\u043b\u044f <i>sklearn</i> \u043f\u0440\u0438 \u043f\u043e\u043c\u043e\u0449\u0438 \u0444\u0443\u043d\u043a\u0446\u0438\u0438 <a href=\"http://scikit-learn.org/stable/modules/generated/sklearn.metrics.roc_auc_score.html#sklearn.metrics.roc_auc_score\">roc_auc_score</a> \u0438\u043b\u0438 <a href=\"http://scikit-learn.org/stable/modules/generated/sklearn.metrics.auc.html#sklearn.metrics.auc\">auc</a></li><li>\u0421 \u043f\u043e\u043c\u043e\u0449\u044c\u044e \u0441\u0442\u043e\u0440\u043e\u043d\u043d\u0435\u0433\u043e \u043f\u0430\u043a\u0435\u0442\u0430 <a href=\"https://github.com/benhamner/Metrics\">ml_metrics</a> \u0438 \u0444\u0443\u043d\u043a\u0446\u0438\u0438 auc()</li>\n",
      "</ol>"
     ]
    },
    {
     "cell_type": "markdown",
     "metadata": {},
     "source": [
      "\u042f \u0432\u043e\u0441\u043f\u043e\u043b\u044c\u0437\u0443\u044e\u0441\u044c \u0432\u0442\u043e\u0440\u044b\u043c \u0441\u043f\u043e\u0441\u043e\u0431\u043e\u043c, \u0442.\u043a. \u043f\u0435\u0440\u0432\u044b\u0439 \u0431\u044b\u043b \u043f\u043e\u043a\u0430\u0437\u0430\u043d \u0432 \u043f\u0440\u0435\u0434\u044b\u0434\u0443\u0449\u0435\u0439 \u0441\u0442\u0430\u0442\u044c\u0435. \u041f\u0430\u043a\u0435\u0442 <i>ml_metrics</i> \u044f\u0432\u043b\u044f\u0435\u0442\u0441\u044f \u043e\u0447\u0435\u043d\u044c \u043f\u043e\u043b\u0435\u0437\u043d\u044b\u043c \u0434\u043e\u043f\u043e\u043b\u043d\u0435\u043d\u0438\u0435\u043c \u043a sklearn, \u0442.\u043a. \u0432 \u043d\u0435\u043c \u043f\u0440\u0438\u0441\u0443\u0442\u0441\u0442\u0432\u0443\u044e\u0442 \u043d\u0435\u043a\u043e\u0442\u043e\u0440\u044b\u0435 \u043c\u0435\u0442\u0440\u0438\u043a\u0438, \u043a\u043e\u0442\u043e\u0440\u044b\u0445 \u043d\u0435\u0442 \u0432 sklearn. "
     ]
    },
    {
     "cell_type": "markdown",
     "metadata": {},
     "source": [
      "\u0418\u0442\u0430\u043a, \u043f\u043e\u0441\u0442\u0440\u043e\u0438\u043c ROC \u043a\u0440\u0438\u0432\u044b\u0435 \u0438 \u043f\u043e\u0441\u0447\u0438\u0442\u0430\u0435\u043c \u0438\u0445 \u043f\u043b\u043e\u0449\u0430\u0434\u0438:"
     ]
    },
    {
     "cell_type": "code",
     "collapsed": false,
     "input": [
      "plt.figure(figsize=(10, 10)) \n",
      "for model in models:\n",
      "    model.fit(TRNtrain, TARtrain)\n",
      "    pred_scr = model.predict_proba(TRNtest)[:, 1]\n",
      "    fpr, tpr, thresholds = roc_curve(TARtest, pred_scr)\n",
      "    roc_auc = ml_metrics.auc(TARtest, pred_scr)\n",
      "    md = str(model)\n",
      "    md = md[:md.find('(')]\n",
      "    pl.plot(fpr, tpr, label='ROC fold %s (auc = %0.2f)' % (md, roc_auc))\n",
      "\n",
      "pl.plot([0, 1], [0, 1], '--', color=(0.6, 0.6, 0.6))\n",
      "pl.xlim([0, 1])\n",
      "pl.ylim([0, 1])\n",
      "pl.xlabel('False Positive Rate')\n",
      "pl.ylabel('True Positive Rate')\n",
      "pl.title('Receiver operating characteristic example')\n",
      "pl.legend(loc=\"lower right\")\n",
      "pl.show()"
     ],
     "language": "python",
     "metadata": {},
     "outputs": [
      {
       "metadata": {},
       "output_type": "display_data",
       "png": "[encoded data removed]",
       "text": [
        "<matplotlib.figure.Figure at 0x2b94beb0>"
       ]
      }
     ],
     "prompt_number": 64
    },
    {
     "cell_type": "markdown",
     "metadata": {},
     "source": [
      "\u0418\u0442\u0430\u043a, \u043f\u043e \u0440\u0435\u0437\u0443\u043b\u044c\u0442\u0430\u0442\u0430\u043c \u0430\u043d\u0430\u043b\u0438\u0437\u0430 \u043d\u0430\u0448\u0438\u0445 \u043c\u043e\u0434\u0435\u043b\u0435\u0439 \u043c\u043e\u0436\u043d\u043e \u0441\u043a\u0430\u0437\u0430\u0442\u044c, \u0447\u0442\u043e \u043b\u0443\u0447\u0448\u0435 \u0432\u0441\u0435\u0433\u043e \u0441\u0435\u0431\u044f \u043f\u043e\u043a\u0430\u0437\u0430\u043b \u0433\u0440\u0430\u0434\u0438\u0435\u043d\u0442\u043d\u044b\u0439 \u0431\u0443\u0441\u0442\u0438\u043d\u0433, \u0435\u0433\u043e \u0442\u043e\u0447\u043d\u043e\u0441\u0442\u044c \u043f\u043e\u0440\u044f\u0434\u043a\u0430 69%. \u0421\u043e\u043e\u0442\u0432\u0435\u0442\u0441\u0442\u0432\u0435\u043d\u043d\u043e \u0434\u043b\u044f \u043e\u0431\u0443\u0447\u0435\u043d\u0438\u044f \u0442\u0435\u0441\u0442\u043e\u0432\u043e\u0439 \u0432\u044b\u0431\u043e\u0440\u043a\u0438 \u043c\u044b \u0432\u044b\u0431\u0435\u0440\u0435\u043c \u0435\u0433\u043e. \u0414\u0430\u0432\u0430\u0439\u0442\u0435 \u0437\u0430\u043f\u043e\u043b\u043d\u0438\u043c \u0438\u043d\u0444\u043e\u0440\u043c\u0430\u0446\u0438\u044e \u0432 \u0442\u0435\u0441\u0442\u043e\u0432\u043e\u0439 \u0432\u044b\u0431\u043e\u0440\u043a\u0435, \u043f\u0440\u0435\u0434\u0432\u0430\u0440\u0438\u0442\u0435\u043b\u044c\u043d\u043e \u043e\u0431\u0440\u0430\u0431\u043e\u0442\u0430\u0432 \u0435\u0435 \u0434\u043e \u043d\u0443\u0436\u043d\u043e\u0433\u043e \u0444\u043e\u0440\u043c\u0430\u0442\u0430:"
     ]
    },
    {
     "cell_type": "code",
     "collapsed": false,
     "input": [
      "#\u043f\u0440\u0438\u0432\u043e\u0434\u0438\u043c \u0442\u0435\u0441\u0442\u043e\u0432\u0443\u044e \u0432\u044b\u0431\u043e\u0440\u043a\u0443 \u043a \u043d\u0443\u0436\u043d\u043e\u043c\u0443 \u0444\u043e\u0440\u043c\u0430\u0442\u0443\n",
      "FieldDrop.append('bad')\n",
      "test = testDF.drop(FieldDrop, axis=1).values\n",
      "test = coder.fit_transform(test)\n",
      "\n",
      "#\u043e\u0431\u0443\u0447\u0430\u0435\u043c \u043c\u043e\u0434\u0435\u043b\u044c\n",
      "model = models[1]\n",
      "model.fit(train, target)\n",
      "\n",
      "#\u0437\u0430\u043f\u0438\u0441\u044b\u0432\u0430\u0435\u043c \u0440\u0435\u0437\u0443\u043b\u044c\u0442\u0430\u0442\n",
      "testDF.bad = model.predict(test)"
     ],
     "language": "python",
     "metadata": {},
     "outputs": [],
     "prompt_number": 68
    },
    {
     "cell_type": "heading",
     "level": 4,
     "metadata": {},
     "source": [
      "\u0417\u0430\u043a\u043b\u044e\u0447\u0435\u043d\u0438\u0435"
     ]
    },
    {
     "cell_type": "markdown",
     "metadata": {},
     "source": [
      "\u0412 \u043a\u0430\u0447\u0435\u0441\u0442\u0432\u0435 \u0437\u0430\u043a\u043b\u044e\u0447\u0435\u043d\u0438\u044f \u0445\u043e\u0442\u0435\u043b\u043e\u0441\u044c \u0431\u044b \u043e\u0442\u043c\u0435\u0442\u0438\u0442\u044c, \u0447\u0442\u043e \u043f\u043e\u043b\u0443\u0447\u0435\u043d\u043d\u0430\u044f \u0442\u043e\u0447\u043d\u043e\u0441\u0442\u044c \u043c\u043e\u0434\u0435\u043b\u0438 \u0432 69%, \u044f\u0432\u043b\u044f\u0435\u0442\u0441\u044f \u043d\u0435 \u0434\u043e\u0441\u0442\u0430\u0442\u043e\u0447\u043d\u043e \u0445\u043e\u0440\u043e\u0448\u0435\u0439, \u043d\u043e \u0431\u043e\u043b\u044c\u0448\u0435\u0439 \u0442\u043e\u0447\u043d\u043e\u0441\u0442\u0438 \u044f \u0434\u043e\u0431\u0438\u0442\u044c\u0441\u044f \u043d\u0435 \u0441\u043c\u043e\u0433. \u0425\u043e\u0442\u0435\u043b\u043e\u0441\u044c \u0431\u044b \u043e\u0442\u043c\u0435\u0442\u0438\u0442\u044c, \u0442\u043e\u0442 \u0444\u0430\u043a\u0442, \u0447\u0442\u043e \u043f\u0440\u0438 \u043f\u043e\u0441\u0442\u0440\u043e\u0435\u043d\u0438\u0438 \u043c\u043e\u0434\u0435\u043b\u0438 \u043f\u043e \u043f\u043e\u043b\u043d\u043e\u0439 \u0440\u0430\u0437\u043c\u0435\u0440\u043d\u043e\u0441\u0442\u0438, \u0442.\u0435. \u0431\u0435\u0437 \u0443\u0447\u0435\u0442\u0430 \u043a\u043e\u0440\u0440\u0435\u043b\u0438\u0440\u0443\u0435\u043c\u044b\u0445 \u0441\u0442\u043e\u043b\u0431\u0446\u043e\u0432 \u0438 \u0441\u043e\u043a\u0440\u0430\u0449\u0435\u043d\u0438\u044f \u0440\u0430\u0437\u043c\u0435\u0440\u043d\u043e\u0441\u0442\u0438, \u043e\u043d\u0430 \u0434\u0430\u043b\u0430 \u0442\u0430\u043a \u0436\u0435 69% \u0442\u043e\u0447\u043d\u043e\u0441\u0442\u0438 (\u044d\u0442\u043e \u043c\u043e\u0436\u043d\u043e \u043b\u0435\u0433\u043a\u043e \u043f\u0440\u043e\u0432\u0435\u0440\u0438\u0442\u044c \u0438\u0441\u043f\u043e\u043b\u044c\u0437\u0443\u044f \u043d\u0430\u0431\u043e\u0440 <i>trainDF</i> \u0434\u043b\u044f \u043e\u0431\u0443\u0447\u0435\u043d\u0438\u044f \u043c\u043e\u0434\u0435\u043b\u0438)"
     ]
    },
    {
     "cell_type": "markdown",
     "metadata": {},
     "source": [
      "\u0412 \u0434\u0430\u043d\u043d\u043e\u0439 \u0441\u0442\u0430\u0442\u044c\u0435, \u044f \u043f\u043e\u0441\u0442\u0430\u0440\u0430\u043b\u0441\u044f \u043f\u043e\u043a\u0430\u0437\u0430\u0442\u044c \u0432\u0441\u0435 \u043e\u0441\u043d\u043e\u0432\u043d\u044b\u0435 \u044d\u0442\u0430\u043f\u044b \u0430\u043d\u0430\u043b\u0438\u0437\u0430 \u0434\u0430\u043d\u043d\u044b\u0445 \u043e\u0442 \u043f\u0435\u0440\u0432\u0438\u0447\u043d\u043e\u0439 \u043e\u0431\u0440\u0430\u0431\u043e\u0442\u043a\u0438 \u0441\u044b\u0440\u044b\u0445 \u0434\u0430\u043d\u043d\u044b\u0445 \u0434\u043e \u043f\u043e\u0441\u0442\u0440\u043e\u0435\u043d\u0438\u044f \u043c\u043e\u0434\u0435\u043b\u0438 \u043a\u043b\u0430\u0441\u0441\u0438\u0444\u0438\u043a\u0430\u0442\u043e\u0440\u0430. \u041a\u0440\u043e\u043c\u0435 \u0442\u043e\u0433\u043e, \u0445\u043e\u0442\u0435\u043b\u043e\u0441\u044c \u0431\u044b \u043e\u0442\u043c\u0435\u0442\u0438\u0442\u044c, \u0447\u0442\u043e \u0432 \u0430\u043d\u0430\u043b\u0438\u0437\u0438\u0440\u0443\u0435\u043c\u044b\u0435 \u043c\u043e\u0434\u0435\u043b\u0438 \u043d\u0435 \u0431\u044b\u043b \u0432\u043a\u043b\u044e\u0447\u0435\u043d <a href=\"http://habrahabr.ru/post/105220/\">\u043c\u0435\u0442\u043e\u0434 \u043e\u043f\u043e\u0440\u043d\u044b\u0445 \u0432\u0435\u043a\u0442\u043e\u0440\u043e\u0432</a>, \u044d\u0442\u043e \u0441\u0432\u044f\u0437\u0430\u043d\u043e \u0441 \u0442\u0435\u043c, \u0447\u0442\u043e \u043f\u043e\u0441\u043b\u0435 \u043d\u043e\u0440\u043c\u0430\u043b\u0438\u0437\u0430\u0446\u0438\u0438 \u0434\u0430\u043d\u043d\u044b\u0445 \u0442\u043e\u0447\u043d\u043e\u0441\u0442\u044c \u043c\u043e\u0434\u0435\u043b\u0438 \u043e\u043f\u0443\u0441\u0442\u0438\u043b\u0430\u0441\u044c \u0434\u043e 51% \u0438 \u043b\u0443\u0447\u0448\u0438\u0439 \u0440\u0435\u0437\u0443\u043b\u044c\u0442\u0430\u0442 \u043a\u043e\u0442\u043e\u0440\u044b\u0439 \u043c\u043d\u0435 \u0443\u0434\u0430\u043b\u043e\u0441\u044c \u043f\u043e\u043b\u0443\u0447\u0438\u0442\u044c \u0441 \u043d\u0438\u043c \u0431\u044b\u043b \u0432 \u0440\u0430\u0439\u043e\u043d\u0435 60%, \u043f\u0440\u0438 \u0437\u043d\u0430\u0447\u0438\u0442\u0435\u043b\u044c\u043d\u044b\u0445 \u0437\u0430\u0442\u0440\u0430\u0442\u0430\u0445 \u043f\u043e \u0432\u0440\u0435\u043c\u0435\u043d\u0438."
     ]
    },
    {
     "cell_type": "markdown",
     "metadata": {},
     "source": [
      "\u0422\u0430\u043a\u0436\u0435 \u0445\u043e\u0442\u0435\u043b\u043e\u0441\u044c \u0431\u044b \u043e\u0442\u043c\u0435\u0442\u0438\u0442\u044c, \u0447\u0442\u043e, \u043a \u0441\u043e\u0436\u0430\u043b\u0435\u043d\u0438\u044e \u043d\u0430 \u0442\u0435\u0441\u0442\u043e\u0432\u043e\u0439 \u0432\u044b\u0431\u043e\u0440\u043a\u0435 \u0440\u0435\u0437\u0443\u043b\u044c\u0442\u0430\u0442 \u043f\u0440\u043e\u0432\u0435\u0440\u0438\u0442\u044c \u043d\u0435 \u0443\u0434\u0430\u043b\u043e\u0441\u044c, \u0442.\u043a. \u043d\u0435 \u0443\u043b\u043e\u0436\u0438\u043b\u0441\u044f \u0432 \u0441\u0440\u043e\u043a\u0438 \u043f\u0440\u043e\u0432\u0435\u0434\u0435\u043d\u0438\u044f \u0442\u0443\u0440\u043d\u0438\u0440\u0430."
     ]
    }
   ],
   "metadata": {}
  }
 ]
}
